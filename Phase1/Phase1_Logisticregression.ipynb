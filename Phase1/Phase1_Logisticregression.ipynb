{
 "cells": [
  {
   "cell_type": "code",
   "execution_count": 4,
   "metadata": {},
   "outputs": [],
   "source": [
    "import pandas as pd\n",
    "import re\n",
    "import numpy as np"
   ]
  },
  {
   "cell_type": "code",
   "execution_count": 5,
   "metadata": {},
   "outputs": [],
   "source": [
    "df1 = pd.read_csv(\"/Users/ved/Desktop/Capstone/Dataset/Cleaned_Indian_Food_Dataset.csv\")"
   ]
  },
  {
   "cell_type": "code",
   "execution_count": 6,
   "metadata": {},
   "outputs": [
    {
     "name": "stderr",
     "output_type": "stream",
     "text": [
      "/var/folders/1m/v10vjxqd235fn30s91s6nnx40000gn/T/ipykernel_38966/3553631717.py:3: SettingWithCopyWarning: \n",
      "A value is trying to be set on a copy of a slice from a DataFrame\n",
      "\n",
      "See the caveats in the documentation: https://pandas.pydata.org/pandas-docs/stable/user_guide/indexing.html#returning-a-view-versus-a-copy\n",
      "  df1[\"ingredients\"][i]=re.sub(\"\\(.*?\\)\",\"\",df1[\"ingredients\"][i])\n",
      "/var/folders/1m/v10vjxqd235fn30s91s6nnx40000gn/T/ipykernel_38966/3553631717.py:4: SettingWithCopyWarning: \n",
      "A value is trying to be set on a copy of a slice from a DataFrame\n",
      "\n",
      "See the caveats in the documentation: https://pandas.pydata.org/pandas-docs/stable/user_guide/indexing.html#returning-a-view-versus-a-copy\n",
      "  df1[\"ingredients\"][i] = df1[\"ingredients\"][i].replace('(','').replace(')','')\n"
     ]
    }
   ],
   "source": [
    "df1.rename(columns = {'Cleaned-Ingredients':'ingredients'}, inplace = True)\n",
    "for i in range(len(df1[\"ingredients\"])):\n",
    "    df1[\"ingredients\"][i]=re.sub(\"\\(.*?\\)\",\"\",df1[\"ingredients\"][i])\n",
    "    df1[\"ingredients\"][i] = df1[\"ingredients\"][i].replace('(','').replace(')','')"
   ]
  },
  {
   "cell_type": "code",
   "execution_count": 7,
   "metadata": {},
   "outputs": [
    {
     "name": "stdout",
     "output_type": "stream",
     "text": [
      "Predicted Recipes: ['Tomato Dosa Recipe']\n"
     ]
    }
   ],
   "source": [
    "from sklearn.feature_extraction.text import TfidfVectorizer\n",
    "from sklearn.model_selection import train_test_split\n",
    "from sklearn.linear_model import LogisticRegression\n",
    "from sklearn.metrics import accuracy_score\n",
    "\n",
    "# Sample dataset (replace with your own)\n",
    "\n",
    "\n",
    "# Create a DataFrame from your dataset\n",
    "\n",
    "# Preprocess text data and create TF-IDF features\n",
    "tfidf_vectorizer = TfidfVectorizer(stop_words='english')\n",
    "X = tfidf_vectorizer.fit_transform(df1['ingredients'])\n",
    "y = df1['TranslatedRecipeName']\n",
    "\n",
    "# Split the data into train and test sets\n",
    "X_train, X_test, y_train, y_test = train_test_split(X, y, test_size=0.2, random_state=42)\n",
    "\n",
    "# Train a logistic regression model\n",
    "clf = LogisticRegression()\n",
    "clf.fit(X_train, y_train)\n",
    "\n",
    "# Predict recipe names based on user input\n",
    "user_input = \"chicken, egg, tomato, onion\"  # Replace with user input\n",
    "user_input_features = tfidf_vectorizer.transform([user_input])\n",
    "predicted_recipes = clf.predict(user_input_features)\n",
    "\n",
    "# Display predicted recipes\n",
    "print(\"Predicted Recipes:\", predicted_recipes)\n",
    "\n",
    "# You can also display confidence scores using clf.predict_proba()"
   ]
  },
  {
   "cell_type": "code",
   "execution_count": 10,
   "metadata": {},
   "outputs": [],
   "source": [
    "test = pd.read_csv(\"/Users/ved/Desktop/Capstone/accuracytest_-_Sheet1_1.csv\")\n",
    "actual_recipes = list(test[\"TranslatedRecipeName\"])"
   ]
  },
  {
   "cell_type": "code",
   "execution_count": 12,
   "metadata": {},
   "outputs": [
    {
     "data": {
      "text/plain": [
       "'Tomato Dosa Recipe'"
      ]
     },
     "execution_count": 12,
     "metadata": {},
     "output_type": "execute_result"
    }
   ],
   "source": [
    "predicted_recipes[0]"
   ]
  },
  {
   "cell_type": "code",
   "execution_count": 14,
   "metadata": {},
   "outputs": [
    {
     "name": "stdout",
     "output_type": "stream",
     "text": [
      "Precision at 10 using Logistic Regression: 0.0\n"
     ]
    }
   ],
   "source": [
    "K = 10 # mention it as actual no. of recipies\n",
    "# Calculate P@K\n",
    "correct_recommendations=[]\n",
    "for recipe in actual_recipes:\n",
    "    for i in predicted_recipes[0]:\n",
    "        if recipe == i:\n",
    "            correct_recommendations.append(True)\n",
    "#correct_recommendations = [recipe in rec['TranslatedRecipeName'][:K] for recipe in actual_recipes]\n",
    "precision_at_K = sum(correct_recommendations) / K\n",
    "\n",
    "print(f\"Precision at {K} using Logistic Regression: {precision_at_K}\")"
   ]
  },
  {
   "cell_type": "code",
   "execution_count": 2,
   "metadata": {},
   "outputs": [
    {
     "ename": "NotFittedError",
     "evalue": "The TF-IDF vectorizer is not fitted",
     "output_type": "error",
     "traceback": [
      "\u001b[0;31m---------------------------------------------------------------------------\u001b[0m",
      "\u001b[0;31mNotFittedError\u001b[0m                            Traceback (most recent call last)",
      "\u001b[1;32m/Users/ved/Desktop/Capstone/Phase1/Phase1_Logisticregression.ipynb Cell 5\u001b[0m line \u001b[0;36m3\n\u001b[1;32m      <a href='vscode-notebook-cell:/Users/ved/Desktop/Capstone/Phase1/Phase1_Logisticregression.ipynb#W4sZmlsZQ%3D%3D?line=0'>1</a>\u001b[0m \u001b[39m# Predict recipe names based on user input\u001b[39;00m\n\u001b[1;32m      <a href='vscode-notebook-cell:/Users/ved/Desktop/Capstone/Phase1/Phase1_Logisticregression.ipynb#W4sZmlsZQ%3D%3D?line=1'>2</a>\u001b[0m user_input \u001b[39m=\u001b[39m \u001b[39m\"\u001b[39m\u001b[39meggs, oil, salt, tomato, onion, red chilli powder, turmeric\u001b[39m\u001b[39m\"\u001b[39m\n\u001b[0;32m----> <a href='vscode-notebook-cell:/Users/ved/Desktop/Capstone/Phase1/Phase1_Logisticregression.ipynb#W4sZmlsZQ%3D%3D?line=2'>3</a>\u001b[0m user_input_features \u001b[39m=\u001b[39m tfidf_vectorizer\u001b[39m.\u001b[39;49mtransform([user_input])\n\u001b[1;32m      <a href='vscode-notebook-cell:/Users/ved/Desktop/Capstone/Phase1/Phase1_Logisticregression.ipynb#W4sZmlsZQ%3D%3D?line=3'>4</a>\u001b[0m predicted_recipes \u001b[39m=\u001b[39m clf\u001b[39m.\u001b[39mpredict(user_input_features)\n\u001b[1;32m      <a href='vscode-notebook-cell:/Users/ved/Desktop/Capstone/Phase1/Phase1_Logisticregression.ipynb#W4sZmlsZQ%3D%3D?line=5'>6</a>\u001b[0m \u001b[39m# Display predicted recipes\u001b[39;00m\n",
      "File \u001b[0;32m/opt/homebrew/lib/python3.10/site-packages/sklearn/feature_extraction/text.py:2143\u001b[0m, in \u001b[0;36mTfidfVectorizer.transform\u001b[0;34m(self, raw_documents)\u001b[0m\n\u001b[1;32m   2127\u001b[0m \u001b[39mdef\u001b[39;00m \u001b[39mtransform\u001b[39m(\u001b[39mself\u001b[39m, raw_documents):\n\u001b[1;32m   2128\u001b[0m \u001b[39m    \u001b[39m\u001b[39m\"\"\"Transform documents to document-term matrix.\u001b[39;00m\n\u001b[1;32m   2129\u001b[0m \n\u001b[1;32m   2130\u001b[0m \u001b[39m    Uses the vocabulary and document frequencies (df) learned by fit (or\u001b[39;00m\n\u001b[0;32m   (...)\u001b[0m\n\u001b[1;32m   2141\u001b[0m \u001b[39m        Tf-idf-weighted document-term matrix.\u001b[39;00m\n\u001b[1;32m   2142\u001b[0m \u001b[39m    \"\"\"\u001b[39;00m\n\u001b[0;32m-> 2143\u001b[0m     check_is_fitted(\u001b[39mself\u001b[39;49m, msg\u001b[39m=\u001b[39;49m\u001b[39m\"\u001b[39;49m\u001b[39mThe TF-IDF vectorizer is not fitted\u001b[39;49m\u001b[39m\"\u001b[39;49m)\n\u001b[1;32m   2145\u001b[0m     X \u001b[39m=\u001b[39m \u001b[39msuper\u001b[39m()\u001b[39m.\u001b[39mtransform(raw_documents)\n\u001b[1;32m   2146\u001b[0m     \u001b[39mreturn\u001b[39;00m \u001b[39mself\u001b[39m\u001b[39m.\u001b[39m_tfidf\u001b[39m.\u001b[39mtransform(X, copy\u001b[39m=\u001b[39m\u001b[39mFalse\u001b[39;00m)\n",
      "File \u001b[0;32m/opt/homebrew/lib/python3.10/site-packages/sklearn/utils/validation.py:1380\u001b[0m, in \u001b[0;36mcheck_is_fitted\u001b[0;34m(estimator, attributes, msg, all_or_any)\u001b[0m\n\u001b[1;32m   1375\u001b[0m     fitted \u001b[39m=\u001b[39m [\n\u001b[1;32m   1376\u001b[0m         v \u001b[39mfor\u001b[39;00m v \u001b[39min\u001b[39;00m \u001b[39mvars\u001b[39m(estimator) \u001b[39mif\u001b[39;00m v\u001b[39m.\u001b[39mendswith(\u001b[39m\"\u001b[39m\u001b[39m_\u001b[39m\u001b[39m\"\u001b[39m) \u001b[39mand\u001b[39;00m \u001b[39mnot\u001b[39;00m v\u001b[39m.\u001b[39mstartswith(\u001b[39m\"\u001b[39m\u001b[39m__\u001b[39m\u001b[39m\"\u001b[39m)\n\u001b[1;32m   1377\u001b[0m     ]\n\u001b[1;32m   1379\u001b[0m \u001b[39mif\u001b[39;00m \u001b[39mnot\u001b[39;00m fitted:\n\u001b[0;32m-> 1380\u001b[0m     \u001b[39mraise\u001b[39;00m NotFittedError(msg \u001b[39m%\u001b[39m {\u001b[39m\"\u001b[39m\u001b[39mname\u001b[39m\u001b[39m\"\u001b[39m: \u001b[39mtype\u001b[39m(estimator)\u001b[39m.\u001b[39m\u001b[39m__name__\u001b[39m})\n",
      "\u001b[0;31mNotFittedError\u001b[0m: The TF-IDF vectorizer is not fitted"
     ]
    }
   ],
   "source": [
    "# Predict recipe names based on user input\n",
    "user_input = \"eggs, oil, salt, tomato, onion, red chilli powder, turmeric\"\n",
    "user_input_features = tfidf_vectorizer.transform([user_input])\n",
    "predicted_recipes = clf.predict(user_input_features)\n",
    "\n",
    "# Display predicted recipes\n",
    "print(\"Predicted Recipes:\", predicted_recipes)"
   ]
  },
  {
   "cell_type": "code",
   "execution_count": null,
   "metadata": {},
   "outputs": [],
   "source": []
  }
 ],
 "metadata": {
  "kernelspec": {
   "display_name": "Python 3",
   "language": "python",
   "name": "python3"
  },
  "language_info": {
   "codemirror_mode": {
    "name": "ipython",
    "version": 3
   },
   "file_extension": ".py",
   "mimetype": "text/x-python",
   "name": "python",
   "nbconvert_exporter": "python",
   "pygments_lexer": "ipython3",
   "version": "3.10.13"
  },
  "orig_nbformat": 4
 },
 "nbformat": 4,
 "nbformat_minor": 2
}
