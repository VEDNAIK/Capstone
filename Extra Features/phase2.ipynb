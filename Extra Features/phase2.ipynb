{
 "cells": [
  {
   "cell_type": "code",
   "execution_count": 1,
   "metadata": {},
   "outputs": [
    {
     "name": "stderr",
     "output_type": "stream",
     "text": [
      "/opt/homebrew/lib/python3.10/site-packages/fuzzywuzzy/fuzz.py:11: UserWarning: Using slow pure-python SequenceMatcher. Install python-Levenshtein to remove this warning\n",
      "  warnings.warn('Using slow pure-python SequenceMatcher. Install python-Levenshtein to remove this warning')\n"
     ]
    }
   ],
   "source": [
    "import numpy as np # linear algebra\n",
    "import pandas as pd # data processing, CSV file I/O (e.g. pd.read_csv)\n",
    "import seaborn as sns\n",
    "from matplotlib import pyplot as plt\n",
    "import plotly.graph_objects as go\n",
    "\n",
    "# fuzz is used to compare TWO strings\n",
    "from fuzzywuzzy import fuzz\n",
    "# process is used to compare a string to MULTIPLE other strings\n",
    "from fuzzywuzzy import process"
   ]
  },
  {
   "cell_type": "code",
   "execution_count": 2,
   "metadata": {},
   "outputs": [
    {
     "data": {
      "text/html": [
       "<div>\n",
       "<style scoped>\n",
       "    .dataframe tbody tr th:only-of-type {\n",
       "        vertical-align: middle;\n",
       "    }\n",
       "\n",
       "    .dataframe tbody tr th {\n",
       "        vertical-align: top;\n",
       "    }\n",
       "\n",
       "    .dataframe thead th {\n",
       "        text-align: right;\n",
       "    }\n",
       "</style>\n",
       "<table border=\"1\" class=\"dataframe\">\n",
       "  <thead>\n",
       "    <tr style=\"text-align: right;\">\n",
       "      <th></th>\n",
       "      <th>name</th>\n",
       "      <th>ingredients</th>\n",
       "      <th>diet</th>\n",
       "      <th>prep_time</th>\n",
       "      <th>cook_time</th>\n",
       "      <th>flavor_profile</th>\n",
       "      <th>course</th>\n",
       "      <th>state</th>\n",
       "      <th>region</th>\n",
       "    </tr>\n",
       "  </thead>\n",
       "  <tbody>\n",
       "    <tr>\n",
       "      <th>0</th>\n",
       "      <td>Balu shahi</td>\n",
       "      <td>Maida flour, yogurt, oil, sugar</td>\n",
       "      <td>vegetarian</td>\n",
       "      <td>45</td>\n",
       "      <td>25</td>\n",
       "      <td>sweet</td>\n",
       "      <td>dessert</td>\n",
       "      <td>West Bengal</td>\n",
       "      <td>East</td>\n",
       "    </tr>\n",
       "    <tr>\n",
       "      <th>1</th>\n",
       "      <td>Boondi</td>\n",
       "      <td>Gram flour, ghee, sugar</td>\n",
       "      <td>vegetarian</td>\n",
       "      <td>80</td>\n",
       "      <td>30</td>\n",
       "      <td>sweet</td>\n",
       "      <td>dessert</td>\n",
       "      <td>Rajasthan</td>\n",
       "      <td>West</td>\n",
       "    </tr>\n",
       "    <tr>\n",
       "      <th>2</th>\n",
       "      <td>Gajar ka halwa</td>\n",
       "      <td>Carrots, milk, sugar, ghee, cashews, raisins</td>\n",
       "      <td>vegetarian</td>\n",
       "      <td>15</td>\n",
       "      <td>60</td>\n",
       "      <td>sweet</td>\n",
       "      <td>dessert</td>\n",
       "      <td>Punjab</td>\n",
       "      <td>North</td>\n",
       "    </tr>\n",
       "    <tr>\n",
       "      <th>3</th>\n",
       "      <td>Ghevar</td>\n",
       "      <td>Flour, ghee, kewra, milk, clarified butter, su...</td>\n",
       "      <td>vegetarian</td>\n",
       "      <td>15</td>\n",
       "      <td>30</td>\n",
       "      <td>sweet</td>\n",
       "      <td>dessert</td>\n",
       "      <td>Rajasthan</td>\n",
       "      <td>West</td>\n",
       "    </tr>\n",
       "    <tr>\n",
       "      <th>4</th>\n",
       "      <td>Gulab jamun</td>\n",
       "      <td>Milk powder, plain flour, baking powder, ghee,...</td>\n",
       "      <td>vegetarian</td>\n",
       "      <td>15</td>\n",
       "      <td>40</td>\n",
       "      <td>sweet</td>\n",
       "      <td>dessert</td>\n",
       "      <td>West Bengal</td>\n",
       "      <td>East</td>\n",
       "    </tr>\n",
       "  </tbody>\n",
       "</table>\n",
       "</div>"
      ],
      "text/plain": [
       "             name                                        ingredients  \\\n",
       "0      Balu shahi                    Maida flour, yogurt, oil, sugar   \n",
       "1          Boondi                            Gram flour, ghee, sugar   \n",
       "2  Gajar ka halwa       Carrots, milk, sugar, ghee, cashews, raisins   \n",
       "3          Ghevar  Flour, ghee, kewra, milk, clarified butter, su...   \n",
       "4     Gulab jamun  Milk powder, plain flour, baking powder, ghee,...   \n",
       "\n",
       "         diet  prep_time  cook_time flavor_profile   course        state  \\\n",
       "0  vegetarian         45         25          sweet  dessert  West Bengal   \n",
       "1  vegetarian         80         30          sweet  dessert    Rajasthan   \n",
       "2  vegetarian         15         60          sweet  dessert       Punjab   \n",
       "3  vegetarian         15         30          sweet  dessert    Rajasthan   \n",
       "4  vegetarian         15         40          sweet  dessert  West Bengal   \n",
       "\n",
       "  region  \n",
       "0   East  \n",
       "1   West  \n",
       "2  North  \n",
       "3   West  \n",
       "4   East  "
      ]
     },
     "execution_count": 2,
     "metadata": {},
     "output_type": "execute_result"
    }
   ],
   "source": [
    "df_101 = pd.read_csv('/Users/ved/Desktop/Capstone/Dataset/indian_food.csv')\n",
    "df_101.head()"
   ]
  },
  {
   "cell_type": "code",
   "execution_count": 3,
   "metadata": {},
   "outputs": [
    {
     "data": {
      "text/html": [
       "<div>\n",
       "<style scoped>\n",
       "    .dataframe tbody tr th:only-of-type {\n",
       "        vertical-align: middle;\n",
       "    }\n",
       "\n",
       "    .dataframe tbody tr th {\n",
       "        vertical-align: top;\n",
       "    }\n",
       "\n",
       "    .dataframe thead th {\n",
       "        text-align: right;\n",
       "    }\n",
       "</style>\n",
       "<table border=\"1\" class=\"dataframe\">\n",
       "  <thead>\n",
       "    <tr style=\"text-align: right;\">\n",
       "      <th></th>\n",
       "      <th>TranslatedRecipeName</th>\n",
       "      <th>TranslatedIngredients</th>\n",
       "      <th>TotalTimeInMins</th>\n",
       "      <th>Cuisine</th>\n",
       "      <th>TranslatedInstructions</th>\n",
       "      <th>URL</th>\n",
       "      <th>Cleaned-Ingredients</th>\n",
       "      <th>image-url</th>\n",
       "      <th>Ingredient-count</th>\n",
       "    </tr>\n",
       "  </thead>\n",
       "  <tbody>\n",
       "    <tr>\n",
       "      <th>0</th>\n",
       "      <td>Masala Karela Recipe</td>\n",
       "      <td>1 tablespoon Red Chilli powder,3 tablespoon Gr...</td>\n",
       "      <td>45</td>\n",
       "      <td>Indian</td>\n",
       "      <td>To begin making the Masala Karela Recipe,de-se...</td>\n",
       "      <td>https://www.archanaskitchen.com/masala-karela-...</td>\n",
       "      <td>salt,amchur (dry mango powder),karela (bitter ...</td>\n",
       "      <td>https://www.archanaskitchen.com/images/archana...</td>\n",
       "      <td>10</td>\n",
       "    </tr>\n",
       "    <tr>\n",
       "      <th>1</th>\n",
       "      <td>Spicy Tomato Rice (Recipe)</td>\n",
       "      <td>2 teaspoon cashew - or peanuts, 1/2 Teaspoon ...</td>\n",
       "      <td>15</td>\n",
       "      <td>South Indian Recipes</td>\n",
       "      <td>To make tomato puliogere, first cut the tomato...</td>\n",
       "      <td>https://www.archanaskitchen.com/spicy-tomato-r...</td>\n",
       "      <td>tomato,salt,chickpea lentils,green chilli,rice...</td>\n",
       "      <td>https://www.archanaskitchen.com/images/archana...</td>\n",
       "      <td>12</td>\n",
       "    </tr>\n",
       "    <tr>\n",
       "      <th>2</th>\n",
       "      <td>Ragi Semiya Upma Recipe - Ragi Millet Vermicel...</td>\n",
       "      <td>1 Onion - sliced,1 teaspoon White Urad Dal (Sp...</td>\n",
       "      <td>50</td>\n",
       "      <td>South Indian Recipes</td>\n",
       "      <td>To begin making the Ragi Vermicelli Recipe, fi...</td>\n",
       "      <td>https://www.archanaskitchen.com/ragi-vermicell...</td>\n",
       "      <td>salt,rice vermicelli noodles (thin),asafoetida...</td>\n",
       "      <td>https://www.archanaskitchen.com/images/archana...</td>\n",
       "      <td>12</td>\n",
       "    </tr>\n",
       "    <tr>\n",
       "      <th>3</th>\n",
       "      <td>Gongura Chicken Curry Recipe - Andhra Style Go...</td>\n",
       "      <td>1/2 teaspoon Turmeric powder (Haldi),1 tablesp...</td>\n",
       "      <td>45</td>\n",
       "      <td>Andhra</td>\n",
       "      <td>To begin making Gongura Chicken Curry Recipe f...</td>\n",
       "      <td>https://www.archanaskitchen.com/gongura-chicke...</td>\n",
       "      <td>tomato,salt,ginger,sorrel leaves (gongura),fen...</td>\n",
       "      <td>https://www.archanaskitchen.com/images/archana...</td>\n",
       "      <td>15</td>\n",
       "    </tr>\n",
       "    <tr>\n",
       "      <th>4</th>\n",
       "      <td>Andhra Style Alam Pachadi Recipe - Adrak Chutn...</td>\n",
       "      <td>oil - as per use, 1 tablespoon coriander seed...</td>\n",
       "      <td>30</td>\n",
       "      <td>Andhra</td>\n",
       "      <td>To make Andhra Style Alam Pachadi, first heat ...</td>\n",
       "      <td>https://www.archanaskitchen.com/andhra-style-a...</td>\n",
       "      <td>tomato,salt,ginger,red chillies,curry,asafoeti...</td>\n",
       "      <td>https://www.archanaskitchen.com/images/archana...</td>\n",
       "      <td>12</td>\n",
       "    </tr>\n",
       "  </tbody>\n",
       "</table>\n",
       "</div>"
      ],
      "text/plain": [
       "                                TranslatedRecipeName  \\\n",
       "0                               Masala Karela Recipe   \n",
       "1                         Spicy Tomato Rice (Recipe)   \n",
       "2  Ragi Semiya Upma Recipe - Ragi Millet Vermicel...   \n",
       "3  Gongura Chicken Curry Recipe - Andhra Style Go...   \n",
       "4  Andhra Style Alam Pachadi Recipe - Adrak Chutn...   \n",
       "\n",
       "                               TranslatedIngredients  TotalTimeInMins  \\\n",
       "0  1 tablespoon Red Chilli powder,3 tablespoon Gr...               45   \n",
       "1   2 teaspoon cashew - or peanuts, 1/2 Teaspoon ...               15   \n",
       "2  1 Onion - sliced,1 teaspoon White Urad Dal (Sp...               50   \n",
       "3  1/2 teaspoon Turmeric powder (Haldi),1 tablesp...               45   \n",
       "4   oil - as per use, 1 tablespoon coriander seed...               30   \n",
       "\n",
       "                Cuisine                             TranslatedInstructions  \\\n",
       "0                Indian  To begin making the Masala Karela Recipe,de-se...   \n",
       "1  South Indian Recipes  To make tomato puliogere, first cut the tomato...   \n",
       "2  South Indian Recipes  To begin making the Ragi Vermicelli Recipe, fi...   \n",
       "3                Andhra  To begin making Gongura Chicken Curry Recipe f...   \n",
       "4                Andhra  To make Andhra Style Alam Pachadi, first heat ...   \n",
       "\n",
       "                                                 URL  \\\n",
       "0  https://www.archanaskitchen.com/masala-karela-...   \n",
       "1  https://www.archanaskitchen.com/spicy-tomato-r...   \n",
       "2  https://www.archanaskitchen.com/ragi-vermicell...   \n",
       "3  https://www.archanaskitchen.com/gongura-chicke...   \n",
       "4  https://www.archanaskitchen.com/andhra-style-a...   \n",
       "\n",
       "                                 Cleaned-Ingredients  \\\n",
       "0  salt,amchur (dry mango powder),karela (bitter ...   \n",
       "1  tomato,salt,chickpea lentils,green chilli,rice...   \n",
       "2  salt,rice vermicelli noodles (thin),asafoetida...   \n",
       "3  tomato,salt,ginger,sorrel leaves (gongura),fen...   \n",
       "4  tomato,salt,ginger,red chillies,curry,asafoeti...   \n",
       "\n",
       "                                           image-url  Ingredient-count  \n",
       "0  https://www.archanaskitchen.com/images/archana...                10  \n",
       "1  https://www.archanaskitchen.com/images/archana...                12  \n",
       "2  https://www.archanaskitchen.com/images/archana...                12  \n",
       "3  https://www.archanaskitchen.com/images/archana...                15  \n",
       "4  https://www.archanaskitchen.com/images/archana...                12  "
      ]
     },
     "execution_count": 3,
     "metadata": {},
     "output_type": "execute_result"
    }
   ],
   "source": [
    "df = pd.read_csv('/Users/ved/Desktop/Capstone/Dataset/Cleaned_Indian_Food_Dataset.csv')\n",
    "df.head()"
   ]
  },
  {
   "cell_type": "code",
   "execution_count": 4,
   "metadata": {},
   "outputs": [
    {
     "data": {
      "text/plain": [
       "Gujarat            35\n",
       "Punjab             32\n",
       "Maharashtra        30\n",
       "West Bengal        24\n",
       "-1                 24\n",
       "Assam              21\n",
       "Tamil Nadu         20\n",
       "Andhra Pradesh     10\n",
       "Uttar Pradesh       9\n",
       "Kerala              8\n",
       "Odisha              7\n",
       "Karnataka           6\n",
       "Rajasthan           6\n",
       "Telangana           5\n",
       "Bihar               3\n",
       "Goa                 3\n",
       "Manipur             2\n",
       "Jammu & Kashmir     2\n",
       "Madhya Pradesh      2\n",
       "Uttarakhand         1\n",
       "Tripura             1\n",
       "Nagaland            1\n",
       "NCT of Delhi        1\n",
       "Chhattisgarh        1\n",
       "Haryana             1\n",
       "Name: state, dtype: int64"
      ]
     },
     "execution_count": 4,
     "metadata": {},
     "output_type": "execute_result"
    }
   ],
   "source": [
    "# Total number of recipes by state from Indian Food 101 dataset\n",
    "df_101.state.value_counts()"
   ]
  },
  {
   "cell_type": "code",
   "execution_count": 5,
   "metadata": {},
   "outputs": [
    {
     "data": {
      "text/html": [
       "<div>\n",
       "<style scoped>\n",
       "    .dataframe tbody tr th:only-of-type {\n",
       "        vertical-align: middle;\n",
       "    }\n",
       "\n",
       "    .dataframe tbody tr th {\n",
       "        vertical-align: top;\n",
       "    }\n",
       "\n",
       "    .dataframe thead th {\n",
       "        text-align: right;\n",
       "    }\n",
       "</style>\n",
       "<table border=\"1\" class=\"dataframe\">\n",
       "  <thead>\n",
       "    <tr style=\"text-align: right;\">\n",
       "      <th></th>\n",
       "      <th>name</th>\n",
       "      <th>ingredients</th>\n",
       "      <th>diet</th>\n",
       "      <th>prep_time</th>\n",
       "      <th>cook_time</th>\n",
       "      <th>flavor_profile</th>\n",
       "      <th>course</th>\n",
       "      <th>state</th>\n",
       "      <th>region</th>\n",
       "    </tr>\n",
       "  </thead>\n",
       "  <tbody>\n",
       "    <tr>\n",
       "      <th>56</th>\n",
       "      <td>Basundi</td>\n",
       "      <td>Sugar, milk, nuts</td>\n",
       "      <td>vegetarian</td>\n",
       "      <td>10</td>\n",
       "      <td>35</td>\n",
       "      <td>sweet</td>\n",
       "      <td>dessert</td>\n",
       "      <td>Gujarat</td>\n",
       "      <td>West</td>\n",
       "    </tr>\n",
       "    <tr>\n",
       "      <th>58</th>\n",
       "      <td>Doodhpak</td>\n",
       "      <td>Milk, rice, sugar, dry fruits</td>\n",
       "      <td>vegetarian</td>\n",
       "      <td>10</td>\n",
       "      <td>60</td>\n",
       "      <td>sweet</td>\n",
       "      <td>dessert</td>\n",
       "      <td>Gujarat</td>\n",
       "      <td>West</td>\n",
       "    </tr>\n",
       "    <tr>\n",
       "      <th>168</th>\n",
       "      <td>Saath</td>\n",
       "      <td>Urad dal, potatoes, wheat flour, sooji</td>\n",
       "      <td>vegetarian</td>\n",
       "      <td>20</td>\n",
       "      <td>40</td>\n",
       "      <td>spicy</td>\n",
       "      <td>main course</td>\n",
       "      <td>Gujarat</td>\n",
       "      <td>West</td>\n",
       "    </tr>\n",
       "    <tr>\n",
       "      <th>169</th>\n",
       "      <td>Bajri no rotlo</td>\n",
       "      <td>Wheat flour, pearl millet flour, hot water</td>\n",
       "      <td>vegetarian</td>\n",
       "      <td>10</td>\n",
       "      <td>10</td>\n",
       "      <td>spicy</td>\n",
       "      <td>main course</td>\n",
       "      <td>Gujarat</td>\n",
       "      <td>West</td>\n",
       "    </tr>\n",
       "    <tr>\n",
       "      <th>174</th>\n",
       "      <td>Chevdo</td>\n",
       "      <td>Citric acid, fry, raisins, sugar, chana daal</td>\n",
       "      <td>vegetarian</td>\n",
       "      <td>20</td>\n",
       "      <td>30</td>\n",
       "      <td>spicy</td>\n",
       "      <td>snack</td>\n",
       "      <td>Gujarat</td>\n",
       "      <td>West</td>\n",
       "    </tr>\n",
       "    <tr>\n",
       "      <th>175</th>\n",
       "      <td>Chorafali</td>\n",
       "      <td>Urad dal, bengal gram flour, dried mango, baki...</td>\n",
       "      <td>vegetarian</td>\n",
       "      <td>5</td>\n",
       "      <td>15</td>\n",
       "      <td>spicy</td>\n",
       "      <td>snack</td>\n",
       "      <td>Gujarat</td>\n",
       "      <td>West</td>\n",
       "    </tr>\n",
       "    <tr>\n",
       "      <th>176</th>\n",
       "      <td>Copra paak</td>\n",
       "      <td>Condensed milk, nestle cream, coconut ice, red...</td>\n",
       "      <td>vegetarian</td>\n",
       "      <td>20</td>\n",
       "      <td>30</td>\n",
       "      <td>-1</td>\n",
       "      <td>main course</td>\n",
       "      <td>Gujarat</td>\n",
       "      <td>West</td>\n",
       "    </tr>\n",
       "    <tr>\n",
       "      <th>177</th>\n",
       "      <td>Daal Dhokli</td>\n",
       "      <td>Whole wheat flour, dal, kokum, gur, bengal gra...</td>\n",
       "      <td>vegetarian</td>\n",
       "      <td>20</td>\n",
       "      <td>30</td>\n",
       "      <td>spicy</td>\n",
       "      <td>main course</td>\n",
       "      <td>Gujarat</td>\n",
       "      <td>West</td>\n",
       "    </tr>\n",
       "    <tr>\n",
       "      <th>178</th>\n",
       "      <td>Kutchi dabeli</td>\n",
       "      <td>Pav, aloo, peanut, pomegranate, star anise</td>\n",
       "      <td>vegetarian</td>\n",
       "      <td>30</td>\n",
       "      <td>10</td>\n",
       "      <td>spicy</td>\n",
       "      <td>snack</td>\n",
       "      <td>Gujarat</td>\n",
       "      <td>West</td>\n",
       "    </tr>\n",
       "    <tr>\n",
       "      <th>181</th>\n",
       "      <td>Dhokla</td>\n",
       "      <td>Rava, coconut, gram flour, mustard, sesame</td>\n",
       "      <td>vegetarian</td>\n",
       "      <td>10</td>\n",
       "      <td>20</td>\n",
       "      <td>spicy</td>\n",
       "      <td>snack</td>\n",
       "      <td>Gujarat</td>\n",
       "      <td>West</td>\n",
       "    </tr>\n",
       "    <tr>\n",
       "      <th>182</th>\n",
       "      <td>Dudhi halwa</td>\n",
       "      <td>Bottle gourd, green, raisins, sugar, clarified...</td>\n",
       "      <td>vegetarian</td>\n",
       "      <td>15</td>\n",
       "      <td>30</td>\n",
       "      <td>sweet</td>\n",
       "      <td>dessert</td>\n",
       "      <td>Gujarat</td>\n",
       "      <td>West</td>\n",
       "    </tr>\n",
       "    <tr>\n",
       "      <th>184</th>\n",
       "      <td>Gud papdi</td>\n",
       "      <td>Wheat flour, jaggery, clarified butter, sliced...</td>\n",
       "      <td>vegetarian</td>\n",
       "      <td>10</td>\n",
       "      <td>20</td>\n",
       "      <td>sweet</td>\n",
       "      <td>dessert</td>\n",
       "      <td>Gujarat</td>\n",
       "      <td>West</td>\n",
       "    </tr>\n",
       "    <tr>\n",
       "      <th>185</th>\n",
       "      <td>Ghooghra</td>\n",
       "      <td>Dry fruits, semolina, all purpose flour</td>\n",
       "      <td>vegetarian</td>\n",
       "      <td>-1</td>\n",
       "      <td>-1</td>\n",
       "      <td>spicy</td>\n",
       "      <td>snack</td>\n",
       "      <td>Gujarat</td>\n",
       "      <td>West</td>\n",
       "    </tr>\n",
       "    <tr>\n",
       "      <th>186</th>\n",
       "      <td>Handwo</td>\n",
       "      <td>Bottle gourd, chana dal, cabbage, urad dal, to...</td>\n",
       "      <td>vegetarian</td>\n",
       "      <td>20</td>\n",
       "      <td>30</td>\n",
       "      <td>spicy</td>\n",
       "      <td>snack</td>\n",
       "      <td>Gujarat</td>\n",
       "      <td>West</td>\n",
       "    </tr>\n",
       "    <tr>\n",
       "      <th>187</th>\n",
       "      <td>Halvasan</td>\n",
       "      <td>Whole wheat rava, chia seed, lemon, edible gum...</td>\n",
       "      <td>vegetarian</td>\n",
       "      <td>-1</td>\n",
       "      <td>-1</td>\n",
       "      <td>sweet</td>\n",
       "      <td>dessert</td>\n",
       "      <td>Gujarat</td>\n",
       "      <td>West</td>\n",
       "    </tr>\n",
       "    <tr>\n",
       "      <th>188</th>\n",
       "      <td>Jeera Aloo</td>\n",
       "      <td>Green chilies, lemon juice, chili powder, boil...</td>\n",
       "      <td>vegetarian</td>\n",
       "      <td>10</td>\n",
       "      <td>30</td>\n",
       "      <td>spicy</td>\n",
       "      <td>main course</td>\n",
       "      <td>Gujarat</td>\n",
       "      <td>West</td>\n",
       "    </tr>\n",
       "    <tr>\n",
       "      <th>189</th>\n",
       "      <td>Kansar</td>\n",
       "      <td>Wheat flour, cashews, rapeseed oil</td>\n",
       "      <td>vegetarian</td>\n",
       "      <td>10</td>\n",
       "      <td>40</td>\n",
       "      <td>-1</td>\n",
       "      <td>main course</td>\n",
       "      <td>Gujarat</td>\n",
       "      <td>West</td>\n",
       "    </tr>\n",
       "    <tr>\n",
       "      <th>190</th>\n",
       "      <td>Keri no ras</td>\n",
       "      <td>Mango, sugar</td>\n",
       "      <td>vegetarian</td>\n",
       "      <td>10</td>\n",
       "      <td>10</td>\n",
       "      <td>sour</td>\n",
       "      <td>main course</td>\n",
       "      <td>Gujarat</td>\n",
       "      <td>West</td>\n",
       "    </tr>\n",
       "    <tr>\n",
       "      <th>191</th>\n",
       "      <td>Khakhra</td>\n",
       "      <td>Whole wheat flour, low fat, bengal gram flour</td>\n",
       "      <td>vegetarian</td>\n",
       "      <td>20</td>\n",
       "      <td>40</td>\n",
       "      <td>spicy</td>\n",
       "      <td>snack</td>\n",
       "      <td>Gujarat</td>\n",
       "      <td>West</td>\n",
       "    </tr>\n",
       "    <tr>\n",
       "      <th>192</th>\n",
       "      <td>Khandvi</td>\n",
       "      <td>Green chili paste, white sesame seeds, gram fl...</td>\n",
       "      <td>vegetarian</td>\n",
       "      <td>20</td>\n",
       "      <td>45</td>\n",
       "      <td>spicy</td>\n",
       "      <td>snack</td>\n",
       "      <td>Gujarat</td>\n",
       "      <td>West</td>\n",
       "    </tr>\n",
       "    <tr>\n",
       "      <th>196</th>\n",
       "      <td>Methi na Gota</td>\n",
       "      <td>Rava, gram flour, lemon juice, turmeric, fenug...</td>\n",
       "      <td>vegetarian</td>\n",
       "      <td>15</td>\n",
       "      <td>30</td>\n",
       "      <td>bitter</td>\n",
       "      <td>main course</td>\n",
       "      <td>Gujarat</td>\n",
       "      <td>West</td>\n",
       "    </tr>\n",
       "    <tr>\n",
       "      <th>197</th>\n",
       "      <td>Mohanthal</td>\n",
       "      <td>Rose water, pistachio, badam, bengal gram flou...</td>\n",
       "      <td>vegetarian</td>\n",
       "      <td>5</td>\n",
       "      <td>45</td>\n",
       "      <td>sweet</td>\n",
       "      <td>dessert</td>\n",
       "      <td>Gujarat</td>\n",
       "      <td>West</td>\n",
       "    </tr>\n",
       "    <tr>\n",
       "      <th>198</th>\n",
       "      <td>Muthiya</td>\n",
       "      <td>Bottle gourd, whole wheat flour, rava, sesame ...</td>\n",
       "      <td>vegetarian</td>\n",
       "      <td>15</td>\n",
       "      <td>30</td>\n",
       "      <td>bitter</td>\n",
       "      <td>snack</td>\n",
       "      <td>Gujarat</td>\n",
       "      <td>West</td>\n",
       "    </tr>\n",
       "    <tr>\n",
       "      <th>199</th>\n",
       "      <td>Patra</td>\n",
       "      <td>Arbi ke patte, sesame seeds, gur, bengal gram ...</td>\n",
       "      <td>vegetarian</td>\n",
       "      <td>10</td>\n",
       "      <td>40</td>\n",
       "      <td>spicy</td>\n",
       "      <td>snack</td>\n",
       "      <td>Gujarat</td>\n",
       "      <td>West</td>\n",
       "    </tr>\n",
       "    <tr>\n",
       "      <th>203</th>\n",
       "      <td>Sev khamani</td>\n",
       "      <td>Khaman, pomegranate, sev, powdered sugar, garlic</td>\n",
       "      <td>vegetarian</td>\n",
       "      <td>20</td>\n",
       "      <td>30</td>\n",
       "      <td>spicy</td>\n",
       "      <td>main course</td>\n",
       "      <td>Gujarat</td>\n",
       "      <td>West</td>\n",
       "    </tr>\n",
       "    <tr>\n",
       "      <th>204</th>\n",
       "      <td>Sev tameta</td>\n",
       "      <td>Sev, ginger, tomato, sugar</td>\n",
       "      <td>vegetarian</td>\n",
       "      <td>20</td>\n",
       "      <td>30</td>\n",
       "      <td>spicy</td>\n",
       "      <td>main course</td>\n",
       "      <td>Gujarat</td>\n",
       "      <td>West</td>\n",
       "    </tr>\n",
       "    <tr>\n",
       "      <th>205</th>\n",
       "      <td>Namakpara</td>\n",
       "      <td>Wheat flour, baking soda, all purpose flour, b...</td>\n",
       "      <td>vegetarian</td>\n",
       "      <td>10</td>\n",
       "      <td>35</td>\n",
       "      <td>spicy</td>\n",
       "      <td>snack</td>\n",
       "      <td>Gujarat</td>\n",
       "      <td>West</td>\n",
       "    </tr>\n",
       "    <tr>\n",
       "      <th>209</th>\n",
       "      <td>Undhiyu</td>\n",
       "      <td>Sweet potato, surti papdi, baby potatoes, valo...</td>\n",
       "      <td>vegetarian</td>\n",
       "      <td>25</td>\n",
       "      <td>60</td>\n",
       "      <td>spicy</td>\n",
       "      <td>main course</td>\n",
       "      <td>Gujarat</td>\n",
       "      <td>West</td>\n",
       "    </tr>\n",
       "    <tr>\n",
       "      <th>212</th>\n",
       "      <td>Lilva Kachori</td>\n",
       "      <td>Green garlic chutney, fresh green peas, ginger...</td>\n",
       "      <td>vegetarian</td>\n",
       "      <td>30</td>\n",
       "      <td>6</td>\n",
       "      <td>spicy</td>\n",
       "      <td>snack</td>\n",
       "      <td>Gujarat</td>\n",
       "      <td>West</td>\n",
       "    </tr>\n",
       "    <tr>\n",
       "      <th>213</th>\n",
       "      <td>Mag Dhokli</td>\n",
       "      <td>Moong beans, jaggery, red chillies, oil, salt</td>\n",
       "      <td>vegetarian</td>\n",
       "      <td>-1</td>\n",
       "      <td>-1</td>\n",
       "      <td>spicy</td>\n",
       "      <td>snack</td>\n",
       "      <td>Gujarat</td>\n",
       "      <td>West</td>\n",
       "    </tr>\n",
       "    <tr>\n",
       "      <th>214</th>\n",
       "      <td>Khichu</td>\n",
       "      <td>Rice flour, sesame seeds, baking soda, peanut oil</td>\n",
       "      <td>vegetarian</td>\n",
       "      <td>5</td>\n",
       "      <td>10</td>\n",
       "      <td>spicy</td>\n",
       "      <td>snack</td>\n",
       "      <td>Gujarat</td>\n",
       "      <td>West</td>\n",
       "    </tr>\n",
       "    <tr>\n",
       "      <th>215</th>\n",
       "      <td>Thepla</td>\n",
       "      <td>Chickpea flour, methi leaves, jowar flour, whe...</td>\n",
       "      <td>vegetarian</td>\n",
       "      <td>15</td>\n",
       "      <td>30</td>\n",
       "      <td>spicy</td>\n",
       "      <td>snack</td>\n",
       "      <td>Gujarat</td>\n",
       "      <td>West</td>\n",
       "    </tr>\n",
       "    <tr>\n",
       "      <th>216</th>\n",
       "      <td>Farsi Puri</td>\n",
       "      <td>Semolina, clarified butter, oil, white flour, ...</td>\n",
       "      <td>vegetarian</td>\n",
       "      <td>-1</td>\n",
       "      <td>-1</td>\n",
       "      <td>-1</td>\n",
       "      <td>snack</td>\n",
       "      <td>Gujarat</td>\n",
       "      <td>West</td>\n",
       "    </tr>\n",
       "    <tr>\n",
       "      <th>217</th>\n",
       "      <td>Khaman</td>\n",
       "      <td>Yogurt, fresh coconut, sesame seeds, semolina,...</td>\n",
       "      <td>vegetarian</td>\n",
       "      <td>10</td>\n",
       "      <td>20</td>\n",
       "      <td>spicy</td>\n",
       "      <td>snack</td>\n",
       "      <td>Gujarat</td>\n",
       "      <td>West</td>\n",
       "    </tr>\n",
       "    <tr>\n",
       "      <th>218</th>\n",
       "      <td>Turiya Patra Vatana sabji</td>\n",
       "      <td>Ridge gourd, baking soda, sugar, grated coconu...</td>\n",
       "      <td>vegetarian</td>\n",
       "      <td>35</td>\n",
       "      <td>40</td>\n",
       "      <td>spicy</td>\n",
       "      <td>main course</td>\n",
       "      <td>Gujarat</td>\n",
       "      <td>West</td>\n",
       "    </tr>\n",
       "  </tbody>\n",
       "</table>\n",
       "</div>"
      ],
      "text/plain": [
       "                          name  \\\n",
       "56                     Basundi   \n",
       "58                    Doodhpak   \n",
       "168                      Saath   \n",
       "169             Bajri no rotlo   \n",
       "174                     Chevdo   \n",
       "175                  Chorafali   \n",
       "176                 Copra paak   \n",
       "177                Daal Dhokli   \n",
       "178              Kutchi dabeli   \n",
       "181                     Dhokla   \n",
       "182                Dudhi halwa   \n",
       "184                  Gud papdi   \n",
       "185                   Ghooghra   \n",
       "186                     Handwo   \n",
       "187                   Halvasan   \n",
       "188                 Jeera Aloo   \n",
       "189                     Kansar   \n",
       "190                Keri no ras   \n",
       "191                    Khakhra   \n",
       "192                    Khandvi   \n",
       "196              Methi na Gota   \n",
       "197                  Mohanthal   \n",
       "198                    Muthiya   \n",
       "199                      Patra   \n",
       "203                Sev khamani   \n",
       "204                 Sev tameta   \n",
       "205                  Namakpara   \n",
       "209                    Undhiyu   \n",
       "212              Lilva Kachori   \n",
       "213                 Mag Dhokli   \n",
       "214                     Khichu   \n",
       "215                     Thepla   \n",
       "216                 Farsi Puri   \n",
       "217                     Khaman   \n",
       "218  Turiya Patra Vatana sabji   \n",
       "\n",
       "                                           ingredients        diet  prep_time  \\\n",
       "56                                   Sugar, milk, nuts  vegetarian         10   \n",
       "58                       Milk, rice, sugar, dry fruits  vegetarian         10   \n",
       "168             Urad dal, potatoes, wheat flour, sooji  vegetarian         20   \n",
       "169         Wheat flour, pearl millet flour, hot water  vegetarian         10   \n",
       "174       Citric acid, fry, raisins, sugar, chana daal  vegetarian         20   \n",
       "175  Urad dal, bengal gram flour, dried mango, baki...  vegetarian          5   \n",
       "176  Condensed milk, nestle cream, coconut ice, red...  vegetarian         20   \n",
       "177  Whole wheat flour, dal, kokum, gur, bengal gra...  vegetarian         20   \n",
       "178         Pav, aloo, peanut, pomegranate, star anise  vegetarian         30   \n",
       "181         Rava, coconut, gram flour, mustard, sesame  vegetarian         10   \n",
       "182  Bottle gourd, green, raisins, sugar, clarified...  vegetarian         15   \n",
       "184  Wheat flour, jaggery, clarified butter, sliced...  vegetarian         10   \n",
       "185            Dry fruits, semolina, all purpose flour  vegetarian         -1   \n",
       "186  Bottle gourd, chana dal, cabbage, urad dal, to...  vegetarian         20   \n",
       "187  Whole wheat rava, chia seed, lemon, edible gum...  vegetarian         -1   \n",
       "188  Green chilies, lemon juice, chili powder, boil...  vegetarian         10   \n",
       "189                 Wheat flour, cashews, rapeseed oil  vegetarian         10   \n",
       "190                                       Mango, sugar  vegetarian         10   \n",
       "191      Whole wheat flour, low fat, bengal gram flour  vegetarian         20   \n",
       "192  Green chili paste, white sesame seeds, gram fl...  vegetarian         20   \n",
       "196  Rava, gram flour, lemon juice, turmeric, fenug...  vegetarian         15   \n",
       "197  Rose water, pistachio, badam, bengal gram flou...  vegetarian          5   \n",
       "198  Bottle gourd, whole wheat flour, rava, sesame ...  vegetarian         15   \n",
       "199  Arbi ke patte, sesame seeds, gur, bengal gram ...  vegetarian         10   \n",
       "203   Khaman, pomegranate, sev, powdered sugar, garlic  vegetarian         20   \n",
       "204                         Sev, ginger, tomato, sugar  vegetarian         20   \n",
       "205  Wheat flour, baking soda, all purpose flour, b...  vegetarian         10   \n",
       "209  Sweet potato, surti papdi, baby potatoes, valo...  vegetarian         25   \n",
       "212  Green garlic chutney, fresh green peas, ginger...  vegetarian         30   \n",
       "213      Moong beans, jaggery, red chillies, oil, salt  vegetarian         -1   \n",
       "214  Rice flour, sesame seeds, baking soda, peanut oil  vegetarian          5   \n",
       "215  Chickpea flour, methi leaves, jowar flour, whe...  vegetarian         15   \n",
       "216  Semolina, clarified butter, oil, white flour, ...  vegetarian         -1   \n",
       "217  Yogurt, fresh coconut, sesame seeds, semolina,...  vegetarian         10   \n",
       "218  Ridge gourd, baking soda, sugar, grated coconu...  vegetarian         35   \n",
       "\n",
       "     cook_time flavor_profile       course    state region  \n",
       "56          35          sweet      dessert  Gujarat   West  \n",
       "58          60          sweet      dessert  Gujarat   West  \n",
       "168         40          spicy  main course  Gujarat   West  \n",
       "169         10          spicy  main course  Gujarat   West  \n",
       "174         30          spicy        snack  Gujarat   West  \n",
       "175         15          spicy        snack  Gujarat   West  \n",
       "176         30             -1  main course  Gujarat   West  \n",
       "177         30          spicy  main course  Gujarat   West  \n",
       "178         10          spicy        snack  Gujarat   West  \n",
       "181         20          spicy        snack  Gujarat   West  \n",
       "182         30          sweet      dessert  Gujarat   West  \n",
       "184         20          sweet      dessert  Gujarat   West  \n",
       "185         -1          spicy        snack  Gujarat   West  \n",
       "186         30          spicy        snack  Gujarat   West  \n",
       "187         -1          sweet      dessert  Gujarat   West  \n",
       "188         30          spicy  main course  Gujarat   West  \n",
       "189         40             -1  main course  Gujarat   West  \n",
       "190         10           sour  main course  Gujarat   West  \n",
       "191         40          spicy        snack  Gujarat   West  \n",
       "192         45          spicy        snack  Gujarat   West  \n",
       "196         30         bitter  main course  Gujarat   West  \n",
       "197         45          sweet      dessert  Gujarat   West  \n",
       "198         30         bitter        snack  Gujarat   West  \n",
       "199         40          spicy        snack  Gujarat   West  \n",
       "203         30          spicy  main course  Gujarat   West  \n",
       "204         30          spicy  main course  Gujarat   West  \n",
       "205         35          spicy        snack  Gujarat   West  \n",
       "209         60          spicy  main course  Gujarat   West  \n",
       "212          6          spicy        snack  Gujarat   West  \n",
       "213         -1          spicy        snack  Gujarat   West  \n",
       "214         10          spicy        snack  Gujarat   West  \n",
       "215         30          spicy        snack  Gujarat   West  \n",
       "216         -1             -1        snack  Gujarat   West  \n",
       "217         20          spicy        snack  Gujarat   West  \n",
       "218         40          spicy  main course  Gujarat   West  "
      ]
     },
     "execution_count": 5,
     "metadata": {},
     "output_type": "execute_result"
    }
   ],
   "source": [
    "# Extract only recipes belong to Tamil Nadu\n",
    "df_guj = df_101[df_101['state'] == 'Gujarat']\n",
    "df_guj"
   ]
  },
  {
   "cell_type": "markdown",
   "metadata": {},
   "source": [
    "User will have a choice where user will select state and there will be the list of state recipies and user can click on  anyone of it and the reult from 101 will be displayed and to get simlar items from 6000 dataset, click on similar items "
   ]
  },
  {
   "cell_type": "code",
   "execution_count": 6,
   "metadata": {},
   "outputs": [],
   "source": [
    "# also try below code for ingridients matching"
   ]
  },
  {
   "cell_type": "markdown",
   "metadata": {},
   "source": [
    "![Alt text](image.png)"
   ]
  },
  {
   "cell_type": "code",
   "execution_count": 13,
   "metadata": {},
   "outputs": [],
   "source": [
    "# Choosing a dish from 101 dataset and extract different varieties of the same from 6000 dataset\n",
    "# Use process to extract top 20 matches for the recipe Basundi\n",
    "possibilities = process.extract(\"Pumpkin\", df['Cleaned-Ingredients'], limit=20, scorer=fuzz.partial_token_sort_ratio)"
   ]
  },
  {
   "cell_type": "markdown",
   "metadata": {},
   "source": [
    "The process.extract function is used to perform fuzzy string matching and returns a list of possible matches based on the partial ratio similarity score.\n",
    "\n",
    "It returns list of tuple consisting of three values i.e. recipie name, partial match score and the index value in dataset"
   ]
  },
  {
   "cell_type": "code",
   "execution_count": 14,
   "metadata": {},
   "outputs": [
    {
     "data": {
      "text/plain": [
       "[('salt,wheat flour,spinach,red chilli powder,sunflower oil rotis,cumin seeds (jeera),parangikai pumpkin (red preferably),coriander powder,water dough,turmeric powder',\n",
       "  100,\n",
       "  60),\n",
       " ('salt,coconut,mustard seeds,vellai poosanikai (ash gourdwhite pumpkin),water,dry red chilli,curd,curry leaves,coconut oil,methi seeds (fenugreek seeds),black pepper powder,turmeric powder,green chillies',\n",
       "  100,\n",
       "  80),\n",
       " ('dates (dried s),pine nuts,sunflower oil,nutmeg powder,dried raspberries,wheat flakes (cereal),pumpkin seeds,badam (almond),raisins (sultana),vanilla,walnuts,instant oats (oatmeal),cinnamon powder (dalchini)',\n",
       "  100,\n",
       "  172),\n",
       " ('tomato,salt,parangikai pumpkin,spaghetti pasta,basil leaves,cloves garlic,virgin olive oil,red chilli flakes,italian,onion,black pepper powder,parmesan cheese',\n",
       "  100,\n",
       "  312),\n",
       " ('salt,parangikai pumpkin,amchur (dry mango powder),coriander (dhania) leaves,fennel seeds (saunf),black peppercorns,sugar,green chillies,sunflower oil',\n",
       "  100,\n",
       "  348),\n",
       " ('salt,parangikai pumpkin,amchur (dry mango powder),coconut,mustard seeds,green peas (matar),red chilli powder,water,curry leaves,coconut oil,chana dal (bengal gram dal),garam masala powder',\n",
       "  100,\n",
       "  413),\n",
       " ('tomato,salt,ginger,parangikai pumpkin,ghee,coconut,coriander (dhania) leaves,potato (aloo),red chilli powder,sugar,dry red chillies,cumin seeds (jeera),turmeric powder,chana dal (bengal gram dal)',\n",
       "  100,\n",
       "  455),\n",
       " ('salt,green chilli,parangikai pumpkin,mustard seeds,red chilli powder,cloves garlic,sugar,cinnamon stick (dalchini),methi seeds (fenugreek seeds),black pepper powder,coconut milk,turmeric powder',\n",
       "  100,\n",
       "  851),\n",
       " ('tomato,salt,ginger,parangikai pumpkin,coriander (dhania) leaves,red chilli powder,cloves garlic,onion,badi (wadi),cumin seeds (jeera),coriander powder,turmeric powder,green chillies,sunflower oil',\n",
       "  100,\n",
       "  1152),\n",
       " ('salt,wheat flour,achari masala,parangikai pumpkin,mustard seeds,asafoetida (hing),green peas (matar),red chilli powder,potato (aloo),turmeric powder,garam masala powder',\n",
       "  100,\n",
       "  1167),\n",
       " ('ginger,coconut,fennel seeds (saunf),black peppercorns,mango,parangikai pumpkin yellow,dry red chillies,coriander (dhania) seeds,cumin seeds (jeera),methi seeds (fenugreek seeds),green chillies,sunflower oil',\n",
       "  100,\n",
       "  1328),\n",
       " ('cashew nuts,ghee,saffron strands,vellai poosanikai (ash gourdwhite pumpkin),sugar,cardamom powder (elaichi)',\n",
       "  100,\n",
       "  1354),\n",
       " ('sunflower seeds,wheat brown bread,butter apply on bread,pumpkin seeds,dark chocolate,flax seeds,vanilla,sesame seeds (til seeds)',\n",
       "  100,\n",
       "  1379),\n",
       " ('salt,mixed herbs (dried),spaghetti pasta,red chilli flakes,virgin olive oil,cloves garlic,parangikai pumpkin skin,spinach leaves (palak),walnuts',\n",
       "  100,\n",
       "  1427),\n",
       " ('salt,green chilli,parangikai pumpkin,mustard seeds,coconut,pearl onion (sambar onion),curry leaves,cumin seeds (jeera),turmeric powder',\n",
       "  100,\n",
       "  1482),\n",
       " ('sugar (light brown) topping,heavy whipping cream,eggs,brown sugar (demerara sugar) (light brown sugar,pumpkin pie spice (or mix nutmeg,pumpkin',\n",
       "  100,\n",
       "  1588),\n",
       " ('salt,wheat flour,parangikai pumpkin,ghee,oil,sunflower oil', 100, 1596),\n",
       " ('pumpkin pie spice,baking powder,pineapple,salt,butter greasing the pan,eggs,milk,wheat flour multigrain flour,carrot,baking soda,curd,brown sugar (demerara sugar),butter',\n",
       "  100,\n",
       "  1692),\n",
       " ('salt,parangikai pumpkin,coconut,red chilli powder,water,onion,turmeric powder,garam masala powder',\n",
       "  100,\n",
       "  1808),\n",
       " ('cashew nuts,khoya (mawa),ghee,cardamom (elaichi) podsseeds,milk,parangikai pumpkin red,raisins,sugar,badam (almond)',\n",
       "  100,\n",
       "  1809)]"
      ]
     },
     "execution_count": 14,
     "metadata": {},
     "output_type": "execute_result"
    }
   ],
   "source": [
    "possibilities"
   ]
  },
  {
   "cell_type": "code",
   "execution_count": 9,
   "metadata": {},
   "outputs": [
    {
     "data": {
      "text/plain": [
       "[]"
      ]
     },
     "execution_count": 9,
     "metadata": {},
     "output_type": "execute_result"
    }
   ],
   "source": [
    "# Get matches with partial ratio as 100 it does it by comparing all the tuples 2nd element i.e. partial score\n",
    "# Partial rtaio compare subsections of the string\n",
    "extracted_matches = [possible for possible in possibilities if possible[1] == 100]\n",
    "extracted_matches"
   ]
  },
  {
   "cell_type": "code",
   "execution_count": 10,
   "metadata": {},
   "outputs": [],
   "source": [
    "# Extract only the recipe name from the result\n",
    "get_recipe_name = [extracted_matches[i][0] for i in range(len(extracted_matches))]\n",
    "# Get recipes of the extracted matches\n",
    "df_updated = df[df['TranslatedRecipeName'].isin(get_recipe_name)]"
   ]
  },
  {
   "cell_type": "code",
   "execution_count": 11,
   "metadata": {},
   "outputs": [
    {
     "data": {
      "text/html": [
       "<div>\n",
       "<style scoped>\n",
       "    .dataframe tbody tr th:only-of-type {\n",
       "        vertical-align: middle;\n",
       "    }\n",
       "\n",
       "    .dataframe tbody tr th {\n",
       "        vertical-align: top;\n",
       "    }\n",
       "\n",
       "    .dataframe thead th {\n",
       "        text-align: right;\n",
       "    }\n",
       "</style>\n",
       "<table border=\"1\" class=\"dataframe\">\n",
       "  <thead>\n",
       "    <tr style=\"text-align: right;\">\n",
       "      <th></th>\n",
       "      <th>TranslatedRecipeName</th>\n",
       "      <th>TranslatedIngredients</th>\n",
       "      <th>TotalTimeInMins</th>\n",
       "      <th>Cuisine</th>\n",
       "      <th>TranslatedInstructions</th>\n",
       "      <th>URL</th>\n",
       "      <th>Cleaned-Ingredients</th>\n",
       "      <th>image-url</th>\n",
       "      <th>Ingredient-count</th>\n",
       "    </tr>\n",
       "  </thead>\n",
       "  <tbody>\n",
       "  </tbody>\n",
       "</table>\n",
       "</div>"
      ],
      "text/plain": [
       "Empty DataFrame\n",
       "Columns: [TranslatedRecipeName, TranslatedIngredients, TotalTimeInMins, Cuisine, TranslatedInstructions, URL, Cleaned-Ingredients, image-url, Ingredient-count]\n",
       "Index: []"
      ]
     },
     "execution_count": 11,
     "metadata": {},
     "output_type": "execute_result"
    }
   ],
   "source": [
    "df_updated"
   ]
  },
  {
   "cell_type": "markdown",
   "metadata": {},
   "source": [
    "Select meal based on prep time"
   ]
  },
  {
   "cell_type": "code",
   "execution_count": 12,
   "metadata": {},
   "outputs": [
    {
     "ename": "ValueError",
     "evalue": "min() arg is an empty sequence",
     "output_type": "error",
     "traceback": [
      "\u001b[0;31m---------------------------------------------------------------------------\u001b[0m",
      "\u001b[0;31mValueError\u001b[0m                                Traceback (most recent call last)",
      "\u001b[1;32m/Users/ved/Desktop/Capstone/phase2.ipynb Cell 16\u001b[0m line \u001b[0;36m1\n\u001b[0;32m----> <a href='vscode-notebook-cell:/Users/ved/Desktop/Capstone/phase2.ipynb#X21sZmlsZQ%3D%3D?line=0'>1</a>\u001b[0m a\u001b[39m=\u001b[39msns\u001b[39m.\u001b[39;49mbarplot(y\u001b[39m=\u001b[39;49m\u001b[39m'\u001b[39;49m\u001b[39mTranslatedRecipeName\u001b[39;49m\u001b[39m'\u001b[39;49m,x\u001b[39m=\u001b[39;49m\u001b[39m'\u001b[39;49m\u001b[39mTotalTimeInMins\u001b[39;49m\u001b[39m'\u001b[39;49m,data\u001b[39m=\u001b[39;49mdf_updated)\n",
      "File \u001b[0;32m/opt/homebrew/lib/python3.10/site-packages/seaborn/categorical.py:2755\u001b[0m, in \u001b[0;36mbarplot\u001b[0;34m(data, x, y, hue, order, hue_order, estimator, errorbar, n_boot, units, seed, orient, color, palette, saturation, width, errcolor, errwidth, capsize, dodge, ci, ax, **kwargs)\u001b[0m\n\u001b[1;32m   2752\u001b[0m \u001b[39mif\u001b[39;00m estimator \u001b[39mis\u001b[39;00m \u001b[39mlen\u001b[39m:\n\u001b[1;32m   2753\u001b[0m     estimator \u001b[39m=\u001b[39m \u001b[39m\"\u001b[39m\u001b[39msize\u001b[39m\u001b[39m\"\u001b[39m\n\u001b[0;32m-> 2755\u001b[0m plotter \u001b[39m=\u001b[39m _BarPlotter(x, y, hue, data, order, hue_order,\n\u001b[1;32m   2756\u001b[0m                       estimator, errorbar, n_boot, units, seed,\n\u001b[1;32m   2757\u001b[0m                       orient, color, palette, saturation,\n\u001b[1;32m   2758\u001b[0m                       width, errcolor, errwidth, capsize, dodge)\n\u001b[1;32m   2760\u001b[0m \u001b[39mif\u001b[39;00m ax \u001b[39mis\u001b[39;00m \u001b[39mNone\u001b[39;00m:\n\u001b[1;32m   2761\u001b[0m     ax \u001b[39m=\u001b[39m plt\u001b[39m.\u001b[39mgca()\n",
      "File \u001b[0;32m/opt/homebrew/lib/python3.10/site-packages/seaborn/categorical.py:1532\u001b[0m, in \u001b[0;36m_BarPlotter.__init__\u001b[0;34m(self, x, y, hue, data, order, hue_order, estimator, errorbar, n_boot, units, seed, orient, color, palette, saturation, width, errcolor, errwidth, capsize, dodge)\u001b[0m\n\u001b[1;32m   1529\u001b[0m \u001b[39m\u001b[39m\u001b[39m\"\"\"Initialize the plotter.\"\"\"\u001b[39;00m\n\u001b[1;32m   1530\u001b[0m \u001b[39mself\u001b[39m\u001b[39m.\u001b[39mestablish_variables(x, y, hue, data, orient,\n\u001b[1;32m   1531\u001b[0m                          order, hue_order, units)\n\u001b[0;32m-> 1532\u001b[0m \u001b[39mself\u001b[39;49m\u001b[39m.\u001b[39;49mestablish_colors(color, palette, saturation)\n\u001b[1;32m   1533\u001b[0m \u001b[39mself\u001b[39m\u001b[39m.\u001b[39mestimate_statistic(estimator, errorbar, n_boot, seed)\n\u001b[1;32m   1535\u001b[0m \u001b[39mself\u001b[39m\u001b[39m.\u001b[39mdodge \u001b[39m=\u001b[39m dodge\n",
      "File \u001b[0;32m/opt/homebrew/lib/python3.10/site-packages/seaborn/categorical.py:707\u001b[0m, in \u001b[0;36m_CategoricalPlotter.establish_colors\u001b[0;34m(self, color, palette, saturation)\u001b[0m\n\u001b[1;32m    705\u001b[0m \u001b[39m# Determine the gray color to use for the lines framing the plot\u001b[39;00m\n\u001b[1;32m    706\u001b[0m light_vals \u001b[39m=\u001b[39m [rgb_to_hls(\u001b[39m*\u001b[39mc)[\u001b[39m1\u001b[39m] \u001b[39mfor\u001b[39;00m c \u001b[39min\u001b[39;00m rgb_colors]\n\u001b[0;32m--> 707\u001b[0m lum \u001b[39m=\u001b[39m \u001b[39mmin\u001b[39;49m(light_vals) \u001b[39m*\u001b[39m \u001b[39m.6\u001b[39m\n\u001b[1;32m    708\u001b[0m gray \u001b[39m=\u001b[39m mpl\u001b[39m.\u001b[39mcolors\u001b[39m.\u001b[39mrgb2hex((lum, lum, lum))\n\u001b[1;32m    710\u001b[0m \u001b[39m# Assign object attributes\u001b[39;00m\n",
      "\u001b[0;31mValueError\u001b[0m: min() arg is an empty sequence"
     ]
    }
   ],
   "source": [
    "a=sns.barplot(y='TranslatedRecipeName',x='TotalTimeInMins',data=df_updated)"
   ]
  },
  {
   "cell_type": "code",
   "execution_count": null,
   "metadata": {},
   "outputs": [
    {
     "name": "stdout",
     "output_type": "stream",
     "text": [
      "What's the time you can wait before eating?\n",
      "1.Instant\n",
      "\n",
      "2.Can Wait\n",
      "\n",
      "Enter the number\n",
      "['Basundi / Rabri Recipe']\n"
     ]
    }
   ],
   "source": [
    "print(\"What's the time you can wait before eating?\")\n",
    "print(\"1.Instant\\n\\n2.Can Wait\\n\\nEnter the number\")\n",
    "x=int(input())\n",
    "if x==1:\n",
    "    print(df_updated['TranslatedRecipeName'][df_updated[df_updated['TotalTimeInMins'] <= 40].index.tolist()].tolist())\n",
    "else:\n",
    "    print(df_updated['TranslatedRecipeName'][df_updated[df_updated['TotalTimeInMins'] > 40].index.tolist()].tolist())"
   ]
  },
  {
   "cell_type": "code",
   "execution_count": null,
   "metadata": {},
   "outputs": [
    {
     "name": "stderr",
     "output_type": "stream",
     "text": [
      "/var/folders/1m/v10vjxqd235fn30s91s6nnx40000gn/T/ipykernel_25011/1323884235.py:1: SettingWithCopyWarning: \n",
      "A value is trying to be set on a copy of a slice from a DataFrame.\n",
      "Try using .loc[row_indexer,col_indexer] = value instead\n",
      "\n",
      "See the caveats in the documentation: https://pandas.pydata.org/pandas-docs/stable/user_guide/indexing.html#returning-a-view-versus-a-copy\n",
      "  df_guj['ingredients'] = df_guj['ingredients'].to_list()\n"
     ]
    }
   ],
   "source": [
    "df_guj['ingredients'] = df_guj['ingredients'].to_list()"
   ]
  },
  {
   "cell_type": "code",
   "execution_count": null,
   "metadata": {},
   "outputs": [
    {
     "name": "stdout",
     "output_type": "stream",
     "text": [
      "<class 'pandas.core.series.Series'>\n"
     ]
    }
   ],
   "source": [
    "print(type(df_guj['ingredients']))"
   ]
  },
  {
   "cell_type": "code",
   "execution_count": null,
   "metadata": {},
   "outputs": [
    {
     "name": "stderr",
     "output_type": "stream",
     "text": [
      "/var/folders/1m/v10vjxqd235fn30s91s6nnx40000gn/T/ipykernel_25011/505738311.py:2: SettingWithCopyWarning: \n",
      "A value is trying to be set on a copy of a slice from a DataFrame.\n",
      "Try using .loc[row_indexer,col_indexer] = value instead\n",
      "\n",
      "See the caveats in the documentation: https://pandas.pydata.org/pandas-docs/stable/user_guide/indexing.html#returning-a-view-versus-a-copy\n",
      "  df_guj['ingredients'] = df_guj['ingredients'].str.split(',')\n"
     ]
    },
    {
     "data": {
      "text/html": [
       "<div>\n",
       "<style scoped>\n",
       "    .dataframe tbody tr th:only-of-type {\n",
       "        vertical-align: middle;\n",
       "    }\n",
       "\n",
       "    .dataframe tbody tr th {\n",
       "        vertical-align: top;\n",
       "    }\n",
       "\n",
       "    .dataframe thead th {\n",
       "        text-align: right;\n",
       "    }\n",
       "</style>\n",
       "<table border=\"1\" class=\"dataframe\">\n",
       "  <thead>\n",
       "    <tr style=\"text-align: right;\">\n",
       "      <th></th>\n",
       "      <th>name</th>\n",
       "      <th>ingredients</th>\n",
       "      <th>diet</th>\n",
       "      <th>prep_time</th>\n",
       "      <th>cook_time</th>\n",
       "      <th>flavor_profile</th>\n",
       "      <th>course</th>\n",
       "      <th>state</th>\n",
       "      <th>region</th>\n",
       "    </tr>\n",
       "  </thead>\n",
       "  <tbody>\n",
       "    <tr>\n",
       "      <th>56</th>\n",
       "      <td>Basundi</td>\n",
       "      <td>[Sugar,  milk,  nuts]</td>\n",
       "      <td>vegetarian</td>\n",
       "      <td>10</td>\n",
       "      <td>35</td>\n",
       "      <td>sweet</td>\n",
       "      <td>dessert</td>\n",
       "      <td>Gujarat</td>\n",
       "      <td>West</td>\n",
       "    </tr>\n",
       "    <tr>\n",
       "      <th>58</th>\n",
       "      <td>Doodhpak</td>\n",
       "      <td>[Milk,  rice,  sugar,  dry fruits]</td>\n",
       "      <td>vegetarian</td>\n",
       "      <td>10</td>\n",
       "      <td>60</td>\n",
       "      <td>sweet</td>\n",
       "      <td>dessert</td>\n",
       "      <td>Gujarat</td>\n",
       "      <td>West</td>\n",
       "    </tr>\n",
       "    <tr>\n",
       "      <th>168</th>\n",
       "      <td>Saath</td>\n",
       "      <td>[Urad dal,  potatoes,  wheat flour,  sooji]</td>\n",
       "      <td>vegetarian</td>\n",
       "      <td>20</td>\n",
       "      <td>40</td>\n",
       "      <td>spicy</td>\n",
       "      <td>main course</td>\n",
       "      <td>Gujarat</td>\n",
       "      <td>West</td>\n",
       "    </tr>\n",
       "    <tr>\n",
       "      <th>169</th>\n",
       "      <td>Bajri no rotlo</td>\n",
       "      <td>[Wheat flour,  pearl millet flour,  hot water]</td>\n",
       "      <td>vegetarian</td>\n",
       "      <td>10</td>\n",
       "      <td>10</td>\n",
       "      <td>spicy</td>\n",
       "      <td>main course</td>\n",
       "      <td>Gujarat</td>\n",
       "      <td>West</td>\n",
       "    </tr>\n",
       "    <tr>\n",
       "      <th>174</th>\n",
       "      <td>Chevdo</td>\n",
       "      <td>[Citric acid,  fry,  raisins,  sugar,  chana d...</td>\n",
       "      <td>vegetarian</td>\n",
       "      <td>20</td>\n",
       "      <td>30</td>\n",
       "      <td>spicy</td>\n",
       "      <td>snack</td>\n",
       "      <td>Gujarat</td>\n",
       "      <td>West</td>\n",
       "    </tr>\n",
       "    <tr>\n",
       "      <th>175</th>\n",
       "      <td>Chorafali</td>\n",
       "      <td>[Urad dal,  bengal gram flour,  dried mango,  ...</td>\n",
       "      <td>vegetarian</td>\n",
       "      <td>5</td>\n",
       "      <td>15</td>\n",
       "      <td>spicy</td>\n",
       "      <td>snack</td>\n",
       "      <td>Gujarat</td>\n",
       "      <td>West</td>\n",
       "    </tr>\n",
       "    <tr>\n",
       "      <th>176</th>\n",
       "      <td>Copra paak</td>\n",
       "      <td>[Condensed milk,  nestle cream,  coconut ice, ...</td>\n",
       "      <td>vegetarian</td>\n",
       "      <td>20</td>\n",
       "      <td>30</td>\n",
       "      <td>-1</td>\n",
       "      <td>main course</td>\n",
       "      <td>Gujarat</td>\n",
       "      <td>West</td>\n",
       "    </tr>\n",
       "    <tr>\n",
       "      <th>177</th>\n",
       "      <td>Daal Dhokli</td>\n",
       "      <td>[Whole wheat flour,  dal,  kokum,  gur,  benga...</td>\n",
       "      <td>vegetarian</td>\n",
       "      <td>20</td>\n",
       "      <td>30</td>\n",
       "      <td>spicy</td>\n",
       "      <td>main course</td>\n",
       "      <td>Gujarat</td>\n",
       "      <td>West</td>\n",
       "    </tr>\n",
       "    <tr>\n",
       "      <th>178</th>\n",
       "      <td>Kutchi dabeli</td>\n",
       "      <td>[Pav,  aloo,  peanut,  pomegranate,  star anise]</td>\n",
       "      <td>vegetarian</td>\n",
       "      <td>30</td>\n",
       "      <td>10</td>\n",
       "      <td>spicy</td>\n",
       "      <td>snack</td>\n",
       "      <td>Gujarat</td>\n",
       "      <td>West</td>\n",
       "    </tr>\n",
       "    <tr>\n",
       "      <th>181</th>\n",
       "      <td>Dhokla</td>\n",
       "      <td>[Rava,  coconut,  gram flour,  mustard,  sesame]</td>\n",
       "      <td>vegetarian</td>\n",
       "      <td>10</td>\n",
       "      <td>20</td>\n",
       "      <td>spicy</td>\n",
       "      <td>snack</td>\n",
       "      <td>Gujarat</td>\n",
       "      <td>West</td>\n",
       "    </tr>\n",
       "    <tr>\n",
       "      <th>182</th>\n",
       "      <td>Dudhi halwa</td>\n",
       "      <td>[Bottle gourd,  green,  raisins,  sugar,  clar...</td>\n",
       "      <td>vegetarian</td>\n",
       "      <td>15</td>\n",
       "      <td>30</td>\n",
       "      <td>sweet</td>\n",
       "      <td>dessert</td>\n",
       "      <td>Gujarat</td>\n",
       "      <td>West</td>\n",
       "    </tr>\n",
       "    <tr>\n",
       "      <th>184</th>\n",
       "      <td>Gud papdi</td>\n",
       "      <td>[Wheat flour,  jaggery,  clarified butter,  sl...</td>\n",
       "      <td>vegetarian</td>\n",
       "      <td>10</td>\n",
       "      <td>20</td>\n",
       "      <td>sweet</td>\n",
       "      <td>dessert</td>\n",
       "      <td>Gujarat</td>\n",
       "      <td>West</td>\n",
       "    </tr>\n",
       "    <tr>\n",
       "      <th>185</th>\n",
       "      <td>Ghooghra</td>\n",
       "      <td>[Dry fruits,  semolina,  all purpose flour]</td>\n",
       "      <td>vegetarian</td>\n",
       "      <td>-1</td>\n",
       "      <td>-1</td>\n",
       "      <td>spicy</td>\n",
       "      <td>snack</td>\n",
       "      <td>Gujarat</td>\n",
       "      <td>West</td>\n",
       "    </tr>\n",
       "    <tr>\n",
       "      <th>186</th>\n",
       "      <td>Handwo</td>\n",
       "      <td>[Bottle gourd,  chana dal,  cabbage,  urad dal...</td>\n",
       "      <td>vegetarian</td>\n",
       "      <td>20</td>\n",
       "      <td>30</td>\n",
       "      <td>spicy</td>\n",
       "      <td>snack</td>\n",
       "      <td>Gujarat</td>\n",
       "      <td>West</td>\n",
       "    </tr>\n",
       "    <tr>\n",
       "      <th>187</th>\n",
       "      <td>Halvasan</td>\n",
       "      <td>[Whole wheat rava,  chia seed,  lemon,  edible...</td>\n",
       "      <td>vegetarian</td>\n",
       "      <td>-1</td>\n",
       "      <td>-1</td>\n",
       "      <td>sweet</td>\n",
       "      <td>dessert</td>\n",
       "      <td>Gujarat</td>\n",
       "      <td>West</td>\n",
       "    </tr>\n",
       "    <tr>\n",
       "      <th>188</th>\n",
       "      <td>Jeera Aloo</td>\n",
       "      <td>[Green chilies,  lemon juice,  chili powder,  ...</td>\n",
       "      <td>vegetarian</td>\n",
       "      <td>10</td>\n",
       "      <td>30</td>\n",
       "      <td>spicy</td>\n",
       "      <td>main course</td>\n",
       "      <td>Gujarat</td>\n",
       "      <td>West</td>\n",
       "    </tr>\n",
       "    <tr>\n",
       "      <th>189</th>\n",
       "      <td>Kansar</td>\n",
       "      <td>[Wheat flour,  cashews,  rapeseed oil]</td>\n",
       "      <td>vegetarian</td>\n",
       "      <td>10</td>\n",
       "      <td>40</td>\n",
       "      <td>-1</td>\n",
       "      <td>main course</td>\n",
       "      <td>Gujarat</td>\n",
       "      <td>West</td>\n",
       "    </tr>\n",
       "    <tr>\n",
       "      <th>190</th>\n",
       "      <td>Keri no ras</td>\n",
       "      <td>[Mango,  sugar]</td>\n",
       "      <td>vegetarian</td>\n",
       "      <td>10</td>\n",
       "      <td>10</td>\n",
       "      <td>sour</td>\n",
       "      <td>main course</td>\n",
       "      <td>Gujarat</td>\n",
       "      <td>West</td>\n",
       "    </tr>\n",
       "    <tr>\n",
       "      <th>191</th>\n",
       "      <td>Khakhra</td>\n",
       "      <td>[Whole wheat flour,  low fat,  bengal gram flour]</td>\n",
       "      <td>vegetarian</td>\n",
       "      <td>20</td>\n",
       "      <td>40</td>\n",
       "      <td>spicy</td>\n",
       "      <td>snack</td>\n",
       "      <td>Gujarat</td>\n",
       "      <td>West</td>\n",
       "    </tr>\n",
       "    <tr>\n",
       "      <th>192</th>\n",
       "      <td>Khandvi</td>\n",
       "      <td>[Green chili paste,  white sesame seeds,  gram...</td>\n",
       "      <td>vegetarian</td>\n",
       "      <td>20</td>\n",
       "      <td>45</td>\n",
       "      <td>spicy</td>\n",
       "      <td>snack</td>\n",
       "      <td>Gujarat</td>\n",
       "      <td>West</td>\n",
       "    </tr>\n",
       "    <tr>\n",
       "      <th>196</th>\n",
       "      <td>Methi na Gota</td>\n",
       "      <td>[Rava,  gram flour,  lemon juice,  turmeric,  ...</td>\n",
       "      <td>vegetarian</td>\n",
       "      <td>15</td>\n",
       "      <td>30</td>\n",
       "      <td>bitter</td>\n",
       "      <td>main course</td>\n",
       "      <td>Gujarat</td>\n",
       "      <td>West</td>\n",
       "    </tr>\n",
       "    <tr>\n",
       "      <th>197</th>\n",
       "      <td>Mohanthal</td>\n",
       "      <td>[Rose water,  pistachio,  badam,  bengal gram ...</td>\n",
       "      <td>vegetarian</td>\n",
       "      <td>5</td>\n",
       "      <td>45</td>\n",
       "      <td>sweet</td>\n",
       "      <td>dessert</td>\n",
       "      <td>Gujarat</td>\n",
       "      <td>West</td>\n",
       "    </tr>\n",
       "    <tr>\n",
       "      <th>198</th>\n",
       "      <td>Muthiya</td>\n",
       "      <td>[Bottle gourd,  whole wheat flour,  rava,  ses...</td>\n",
       "      <td>vegetarian</td>\n",
       "      <td>15</td>\n",
       "      <td>30</td>\n",
       "      <td>bitter</td>\n",
       "      <td>snack</td>\n",
       "      <td>Gujarat</td>\n",
       "      <td>West</td>\n",
       "    </tr>\n",
       "    <tr>\n",
       "      <th>199</th>\n",
       "      <td>Patra</td>\n",
       "      <td>[Arbi ke patte,  sesame seeds,  gur,  bengal g...</td>\n",
       "      <td>vegetarian</td>\n",
       "      <td>10</td>\n",
       "      <td>40</td>\n",
       "      <td>spicy</td>\n",
       "      <td>snack</td>\n",
       "      <td>Gujarat</td>\n",
       "      <td>West</td>\n",
       "    </tr>\n",
       "    <tr>\n",
       "      <th>203</th>\n",
       "      <td>Sev khamani</td>\n",
       "      <td>[Khaman,  pomegranate,  sev,  powdered sugar, ...</td>\n",
       "      <td>vegetarian</td>\n",
       "      <td>20</td>\n",
       "      <td>30</td>\n",
       "      <td>spicy</td>\n",
       "      <td>main course</td>\n",
       "      <td>Gujarat</td>\n",
       "      <td>West</td>\n",
       "    </tr>\n",
       "    <tr>\n",
       "      <th>204</th>\n",
       "      <td>Sev tameta</td>\n",
       "      <td>[Sev,  ginger,  tomato,  sugar]</td>\n",
       "      <td>vegetarian</td>\n",
       "      <td>20</td>\n",
       "      <td>30</td>\n",
       "      <td>spicy</td>\n",
       "      <td>main course</td>\n",
       "      <td>Gujarat</td>\n",
       "      <td>West</td>\n",
       "    </tr>\n",
       "    <tr>\n",
       "      <th>205</th>\n",
       "      <td>Namakpara</td>\n",
       "      <td>[Wheat flour,  baking soda,  all purpose flour...</td>\n",
       "      <td>vegetarian</td>\n",
       "      <td>10</td>\n",
       "      <td>35</td>\n",
       "      <td>spicy</td>\n",
       "      <td>snack</td>\n",
       "      <td>Gujarat</td>\n",
       "      <td>West</td>\n",
       "    </tr>\n",
       "    <tr>\n",
       "      <th>209</th>\n",
       "      <td>Undhiyu</td>\n",
       "      <td>[Sweet potato,  surti papdi,  baby potatoes,  ...</td>\n",
       "      <td>vegetarian</td>\n",
       "      <td>25</td>\n",
       "      <td>60</td>\n",
       "      <td>spicy</td>\n",
       "      <td>main course</td>\n",
       "      <td>Gujarat</td>\n",
       "      <td>West</td>\n",
       "    </tr>\n",
       "    <tr>\n",
       "      <th>212</th>\n",
       "      <td>Lilva Kachori</td>\n",
       "      <td>[Green garlic chutney,  fresh green peas,  gin...</td>\n",
       "      <td>vegetarian</td>\n",
       "      <td>30</td>\n",
       "      <td>6</td>\n",
       "      <td>spicy</td>\n",
       "      <td>snack</td>\n",
       "      <td>Gujarat</td>\n",
       "      <td>West</td>\n",
       "    </tr>\n",
       "    <tr>\n",
       "      <th>213</th>\n",
       "      <td>Mag Dhokli</td>\n",
       "      <td>[Moong beans,  jaggery,  red chillies,  oil,  ...</td>\n",
       "      <td>vegetarian</td>\n",
       "      <td>-1</td>\n",
       "      <td>-1</td>\n",
       "      <td>spicy</td>\n",
       "      <td>snack</td>\n",
       "      <td>Gujarat</td>\n",
       "      <td>West</td>\n",
       "    </tr>\n",
       "    <tr>\n",
       "      <th>214</th>\n",
       "      <td>Khichu</td>\n",
       "      <td>[Rice flour,  sesame seeds,  baking soda,  pea...</td>\n",
       "      <td>vegetarian</td>\n",
       "      <td>5</td>\n",
       "      <td>10</td>\n",
       "      <td>spicy</td>\n",
       "      <td>snack</td>\n",
       "      <td>Gujarat</td>\n",
       "      <td>West</td>\n",
       "    </tr>\n",
       "    <tr>\n",
       "      <th>215</th>\n",
       "      <td>Thepla</td>\n",
       "      <td>[Chickpea flour,  methi leaves,  jowar flour, ...</td>\n",
       "      <td>vegetarian</td>\n",
       "      <td>15</td>\n",
       "      <td>30</td>\n",
       "      <td>spicy</td>\n",
       "      <td>snack</td>\n",
       "      <td>Gujarat</td>\n",
       "      <td>West</td>\n",
       "    </tr>\n",
       "    <tr>\n",
       "      <th>216</th>\n",
       "      <td>Farsi Puri</td>\n",
       "      <td>[Semolina,  clarified butter,  oil,  white flo...</td>\n",
       "      <td>vegetarian</td>\n",
       "      <td>-1</td>\n",
       "      <td>-1</td>\n",
       "      <td>-1</td>\n",
       "      <td>snack</td>\n",
       "      <td>Gujarat</td>\n",
       "      <td>West</td>\n",
       "    </tr>\n",
       "    <tr>\n",
       "      <th>217</th>\n",
       "      <td>Khaman</td>\n",
       "      <td>[Yogurt,  fresh coconut,  sesame seeds,  semol...</td>\n",
       "      <td>vegetarian</td>\n",
       "      <td>10</td>\n",
       "      <td>20</td>\n",
       "      <td>spicy</td>\n",
       "      <td>snack</td>\n",
       "      <td>Gujarat</td>\n",
       "      <td>West</td>\n",
       "    </tr>\n",
       "    <tr>\n",
       "      <th>218</th>\n",
       "      <td>Turiya Patra Vatana sabji</td>\n",
       "      <td>[Ridge gourd,  baking soda,  sugar,  grated co...</td>\n",
       "      <td>vegetarian</td>\n",
       "      <td>35</td>\n",
       "      <td>40</td>\n",
       "      <td>spicy</td>\n",
       "      <td>main course</td>\n",
       "      <td>Gujarat</td>\n",
       "      <td>West</td>\n",
       "    </tr>\n",
       "  </tbody>\n",
       "</table>\n",
       "</div>"
      ],
      "text/plain": [
       "                          name  \\\n",
       "56                     Basundi   \n",
       "58                    Doodhpak   \n",
       "168                      Saath   \n",
       "169             Bajri no rotlo   \n",
       "174                     Chevdo   \n",
       "175                  Chorafali   \n",
       "176                 Copra paak   \n",
       "177                Daal Dhokli   \n",
       "178              Kutchi dabeli   \n",
       "181                     Dhokla   \n",
       "182                Dudhi halwa   \n",
       "184                  Gud papdi   \n",
       "185                   Ghooghra   \n",
       "186                     Handwo   \n",
       "187                   Halvasan   \n",
       "188                 Jeera Aloo   \n",
       "189                     Kansar   \n",
       "190                Keri no ras   \n",
       "191                    Khakhra   \n",
       "192                    Khandvi   \n",
       "196              Methi na Gota   \n",
       "197                  Mohanthal   \n",
       "198                    Muthiya   \n",
       "199                      Patra   \n",
       "203                Sev khamani   \n",
       "204                 Sev tameta   \n",
       "205                  Namakpara   \n",
       "209                    Undhiyu   \n",
       "212              Lilva Kachori   \n",
       "213                 Mag Dhokli   \n",
       "214                     Khichu   \n",
       "215                     Thepla   \n",
       "216                 Farsi Puri   \n",
       "217                     Khaman   \n",
       "218  Turiya Patra Vatana sabji   \n",
       "\n",
       "                                           ingredients        diet  prep_time  \\\n",
       "56                               [Sugar,  milk,  nuts]  vegetarian         10   \n",
       "58                  [Milk,  rice,  sugar,  dry fruits]  vegetarian         10   \n",
       "168        [Urad dal,  potatoes,  wheat flour,  sooji]  vegetarian         20   \n",
       "169     [Wheat flour,  pearl millet flour,  hot water]  vegetarian         10   \n",
       "174  [Citric acid,  fry,  raisins,  sugar,  chana d...  vegetarian         20   \n",
       "175  [Urad dal,  bengal gram flour,  dried mango,  ...  vegetarian          5   \n",
       "176  [Condensed milk,  nestle cream,  coconut ice, ...  vegetarian         20   \n",
       "177  [Whole wheat flour,  dal,  kokum,  gur,  benga...  vegetarian         20   \n",
       "178   [Pav,  aloo,  peanut,  pomegranate,  star anise]  vegetarian         30   \n",
       "181   [Rava,  coconut,  gram flour,  mustard,  sesame]  vegetarian         10   \n",
       "182  [Bottle gourd,  green,  raisins,  sugar,  clar...  vegetarian         15   \n",
       "184  [Wheat flour,  jaggery,  clarified butter,  sl...  vegetarian         10   \n",
       "185        [Dry fruits,  semolina,  all purpose flour]  vegetarian         -1   \n",
       "186  [Bottle gourd,  chana dal,  cabbage,  urad dal...  vegetarian         20   \n",
       "187  [Whole wheat rava,  chia seed,  lemon,  edible...  vegetarian         -1   \n",
       "188  [Green chilies,  lemon juice,  chili powder,  ...  vegetarian         10   \n",
       "189             [Wheat flour,  cashews,  rapeseed oil]  vegetarian         10   \n",
       "190                                    [Mango,  sugar]  vegetarian         10   \n",
       "191  [Whole wheat flour,  low fat,  bengal gram flour]  vegetarian         20   \n",
       "192  [Green chili paste,  white sesame seeds,  gram...  vegetarian         20   \n",
       "196  [Rava,  gram flour,  lemon juice,  turmeric,  ...  vegetarian         15   \n",
       "197  [Rose water,  pistachio,  badam,  bengal gram ...  vegetarian          5   \n",
       "198  [Bottle gourd,  whole wheat flour,  rava,  ses...  vegetarian         15   \n",
       "199  [Arbi ke patte,  sesame seeds,  gur,  bengal g...  vegetarian         10   \n",
       "203  [Khaman,  pomegranate,  sev,  powdered sugar, ...  vegetarian         20   \n",
       "204                    [Sev,  ginger,  tomato,  sugar]  vegetarian         20   \n",
       "205  [Wheat flour,  baking soda,  all purpose flour...  vegetarian         10   \n",
       "209  [Sweet potato,  surti papdi,  baby potatoes,  ...  vegetarian         25   \n",
       "212  [Green garlic chutney,  fresh green peas,  gin...  vegetarian         30   \n",
       "213  [Moong beans,  jaggery,  red chillies,  oil,  ...  vegetarian         -1   \n",
       "214  [Rice flour,  sesame seeds,  baking soda,  pea...  vegetarian          5   \n",
       "215  [Chickpea flour,  methi leaves,  jowar flour, ...  vegetarian         15   \n",
       "216  [Semolina,  clarified butter,  oil,  white flo...  vegetarian         -1   \n",
       "217  [Yogurt,  fresh coconut,  sesame seeds,  semol...  vegetarian         10   \n",
       "218  [Ridge gourd,  baking soda,  sugar,  grated co...  vegetarian         35   \n",
       "\n",
       "     cook_time flavor_profile       course    state region  \n",
       "56          35          sweet      dessert  Gujarat   West  \n",
       "58          60          sweet      dessert  Gujarat   West  \n",
       "168         40          spicy  main course  Gujarat   West  \n",
       "169         10          spicy  main course  Gujarat   West  \n",
       "174         30          spicy        snack  Gujarat   West  \n",
       "175         15          spicy        snack  Gujarat   West  \n",
       "176         30             -1  main course  Gujarat   West  \n",
       "177         30          spicy  main course  Gujarat   West  \n",
       "178         10          spicy        snack  Gujarat   West  \n",
       "181         20          spicy        snack  Gujarat   West  \n",
       "182         30          sweet      dessert  Gujarat   West  \n",
       "184         20          sweet      dessert  Gujarat   West  \n",
       "185         -1          spicy        snack  Gujarat   West  \n",
       "186         30          spicy        snack  Gujarat   West  \n",
       "187         -1          sweet      dessert  Gujarat   West  \n",
       "188         30          spicy  main course  Gujarat   West  \n",
       "189         40             -1  main course  Gujarat   West  \n",
       "190         10           sour  main course  Gujarat   West  \n",
       "191         40          spicy        snack  Gujarat   West  \n",
       "192         45          spicy        snack  Gujarat   West  \n",
       "196         30         bitter  main course  Gujarat   West  \n",
       "197         45          sweet      dessert  Gujarat   West  \n",
       "198         30         bitter        snack  Gujarat   West  \n",
       "199         40          spicy        snack  Gujarat   West  \n",
       "203         30          spicy  main course  Gujarat   West  \n",
       "204         30          spicy  main course  Gujarat   West  \n",
       "205         35          spicy        snack  Gujarat   West  \n",
       "209         60          spicy  main course  Gujarat   West  \n",
       "212          6          spicy        snack  Gujarat   West  \n",
       "213         -1          spicy        snack  Gujarat   West  \n",
       "214         10          spicy        snack  Gujarat   West  \n",
       "215         30          spicy        snack  Gujarat   West  \n",
       "216         -1             -1        snack  Gujarat   West  \n",
       "217         20          spicy        snack  Gujarat   West  \n",
       "218         40          spicy  main course  Gujarat   West  "
      ]
     },
     "execution_count": 16,
     "metadata": {},
     "output_type": "execute_result"
    }
   ],
   "source": [
    "# Explore commonly used ingredient in Gujarati food\n",
    "df_guj['ingredients'] = df_guj['ingredients'].str.split(',')\n",
    "df_guj"
   ]
  },
  {
   "cell_type": "code",
   "execution_count": null,
   "metadata": {},
   "outputs": [
    {
     "data": {
      "text/plain": [
       "array(['West Bengal', 'Rajasthan', 'Punjab', 'Uttar Pradesh', '-1',\n",
       "       'Odisha', 'Maharashtra', 'Uttarakhand', 'Assam', 'Bihar',\n",
       "       'Andhra Pradesh', 'Karnataka', 'Telangana', 'Kerala', 'Tamil Nadu',\n",
       "       'Gujarat', 'Tripura', 'Manipur', 'Nagaland', 'NCT of Delhi',\n",
       "       'Jammu & Kashmir', 'Chhattisgarh', 'Haryana', 'Madhya Pradesh',\n",
       "       'Goa'], dtype=object)"
      ]
     },
     "execution_count": 17,
     "metadata": {},
     "output_type": "execute_result"
    }
   ],
   "source": [
    "df_101['state'].unique()"
   ]
  },
  {
   "cell_type": "code",
   "execution_count": null,
   "metadata": {},
   "outputs": [
    {
     "name": "stdout",
     "output_type": "stream",
     "text": [
      "['Chicken' ' coconut oil' ' wine vinegar' ' ginger' ' green' ' cinnamon'\n",
      " 'Coconut milk' ' egg yolks' ' clarified butter' ' all purpose flour'\n",
      " 'Brown rice' ' fennel seeds' ' grated coconut' ' black pepper'\n",
      " ' ginger powder']\n"
     ]
    },
    {
     "name": "stderr",
     "output_type": "stream",
     "text": [
      "/var/folders/1m/v10vjxqd235fn30s91s6nnx40000gn/T/ipykernel_25011/713619126.py:5: SettingWithCopyWarning: \n",
      "A value is trying to be set on a copy of a slice from a DataFrame.\n",
      "Try using .loc[row_indexer,col_indexer] = value instead\n",
      "\n",
      "See the caveats in the documentation: https://pandas.pydata.org/pandas-docs/stable/user_guide/indexing.html#returning-a-view-versus-a-copy\n",
      "  df_unique['ingredients'] = df_unique['ingredients'].str.split(',')\n"
     ]
    },
    {
     "data": {
      "application/vnd.plotly.v1+json": {
       "config": {
        "plotlyServerURL": "https://plot.ly"
       },
       "data": [
        {
         "labels": [
          "Chicken",
          " coconut oil",
          " wine vinegar",
          " ginger",
          " green",
          " cinnamon",
          "Coconut milk",
          " egg yolks",
          " clarified butter",
          " all purpose flour",
          "Brown rice",
          " fennel seeds",
          " grated coconut",
          " black pepper",
          " ginger powder"
         ],
         "type": "pie",
         "values": [
          1,
          1,
          1,
          1,
          1,
          1,
          1,
          1,
          1,
          1,
          1,
          1,
          1,
          1,
          1
         ]
        }
       ],
       "layout": {
        "margin": {
         "b": 0,
         "l": 0,
         "r": 0,
         "t": 0
        },
        "template": {
         "data": {
          "bar": [
           {
            "error_x": {
             "color": "#2a3f5f"
            },
            "error_y": {
             "color": "#2a3f5f"
            },
            "marker": {
             "line": {
              "color": "#E5ECF6",
              "width": 0.5
             },
             "pattern": {
              "fillmode": "overlay",
              "size": 10,
              "solidity": 0.2
             }
            },
            "type": "bar"
           }
          ],
          "barpolar": [
           {
            "marker": {
             "line": {
              "color": "#E5ECF6",
              "width": 0.5
             },
             "pattern": {
              "fillmode": "overlay",
              "size": 10,
              "solidity": 0.2
             }
            },
            "type": "barpolar"
           }
          ],
          "carpet": [
           {
            "aaxis": {
             "endlinecolor": "#2a3f5f",
             "gridcolor": "white",
             "linecolor": "white",
             "minorgridcolor": "white",
             "startlinecolor": "#2a3f5f"
            },
            "baxis": {
             "endlinecolor": "#2a3f5f",
             "gridcolor": "white",
             "linecolor": "white",
             "minorgridcolor": "white",
             "startlinecolor": "#2a3f5f"
            },
            "type": "carpet"
           }
          ],
          "choropleth": [
           {
            "colorbar": {
             "outlinewidth": 0,
             "ticks": ""
            },
            "type": "choropleth"
           }
          ],
          "contour": [
           {
            "colorbar": {
             "outlinewidth": 0,
             "ticks": ""
            },
            "colorscale": [
             [
              0,
              "#0d0887"
             ],
             [
              0.1111111111111111,
              "#46039f"
             ],
             [
              0.2222222222222222,
              "#7201a8"
             ],
             [
              0.3333333333333333,
              "#9c179e"
             ],
             [
              0.4444444444444444,
              "#bd3786"
             ],
             [
              0.5555555555555556,
              "#d8576b"
             ],
             [
              0.6666666666666666,
              "#ed7953"
             ],
             [
              0.7777777777777778,
              "#fb9f3a"
             ],
             [
              0.8888888888888888,
              "#fdca26"
             ],
             [
              1,
              "#f0f921"
             ]
            ],
            "type": "contour"
           }
          ],
          "contourcarpet": [
           {
            "colorbar": {
             "outlinewidth": 0,
             "ticks": ""
            },
            "type": "contourcarpet"
           }
          ],
          "heatmap": [
           {
            "colorbar": {
             "outlinewidth": 0,
             "ticks": ""
            },
            "colorscale": [
             [
              0,
              "#0d0887"
             ],
             [
              0.1111111111111111,
              "#46039f"
             ],
             [
              0.2222222222222222,
              "#7201a8"
             ],
             [
              0.3333333333333333,
              "#9c179e"
             ],
             [
              0.4444444444444444,
              "#bd3786"
             ],
             [
              0.5555555555555556,
              "#d8576b"
             ],
             [
              0.6666666666666666,
              "#ed7953"
             ],
             [
              0.7777777777777778,
              "#fb9f3a"
             ],
             [
              0.8888888888888888,
              "#fdca26"
             ],
             [
              1,
              "#f0f921"
             ]
            ],
            "type": "heatmap"
           }
          ],
          "heatmapgl": [
           {
            "colorbar": {
             "outlinewidth": 0,
             "ticks": ""
            },
            "colorscale": [
             [
              0,
              "#0d0887"
             ],
             [
              0.1111111111111111,
              "#46039f"
             ],
             [
              0.2222222222222222,
              "#7201a8"
             ],
             [
              0.3333333333333333,
              "#9c179e"
             ],
             [
              0.4444444444444444,
              "#bd3786"
             ],
             [
              0.5555555555555556,
              "#d8576b"
             ],
             [
              0.6666666666666666,
              "#ed7953"
             ],
             [
              0.7777777777777778,
              "#fb9f3a"
             ],
             [
              0.8888888888888888,
              "#fdca26"
             ],
             [
              1,
              "#f0f921"
             ]
            ],
            "type": "heatmapgl"
           }
          ],
          "histogram": [
           {
            "marker": {
             "pattern": {
              "fillmode": "overlay",
              "size": 10,
              "solidity": 0.2
             }
            },
            "type": "histogram"
           }
          ],
          "histogram2d": [
           {
            "colorbar": {
             "outlinewidth": 0,
             "ticks": ""
            },
            "colorscale": [
             [
              0,
              "#0d0887"
             ],
             [
              0.1111111111111111,
              "#46039f"
             ],
             [
              0.2222222222222222,
              "#7201a8"
             ],
             [
              0.3333333333333333,
              "#9c179e"
             ],
             [
              0.4444444444444444,
              "#bd3786"
             ],
             [
              0.5555555555555556,
              "#d8576b"
             ],
             [
              0.6666666666666666,
              "#ed7953"
             ],
             [
              0.7777777777777778,
              "#fb9f3a"
             ],
             [
              0.8888888888888888,
              "#fdca26"
             ],
             [
              1,
              "#f0f921"
             ]
            ],
            "type": "histogram2d"
           }
          ],
          "histogram2dcontour": [
           {
            "colorbar": {
             "outlinewidth": 0,
             "ticks": ""
            },
            "colorscale": [
             [
              0,
              "#0d0887"
             ],
             [
              0.1111111111111111,
              "#46039f"
             ],
             [
              0.2222222222222222,
              "#7201a8"
             ],
             [
              0.3333333333333333,
              "#9c179e"
             ],
             [
              0.4444444444444444,
              "#bd3786"
             ],
             [
              0.5555555555555556,
              "#d8576b"
             ],
             [
              0.6666666666666666,
              "#ed7953"
             ],
             [
              0.7777777777777778,
              "#fb9f3a"
             ],
             [
              0.8888888888888888,
              "#fdca26"
             ],
             [
              1,
              "#f0f921"
             ]
            ],
            "type": "histogram2dcontour"
           }
          ],
          "mesh3d": [
           {
            "colorbar": {
             "outlinewidth": 0,
             "ticks": ""
            },
            "type": "mesh3d"
           }
          ],
          "parcoords": [
           {
            "line": {
             "colorbar": {
              "outlinewidth": 0,
              "ticks": ""
             }
            },
            "type": "parcoords"
           }
          ],
          "pie": [
           {
            "automargin": true,
            "type": "pie"
           }
          ],
          "scatter": [
           {
            "fillpattern": {
             "fillmode": "overlay",
             "size": 10,
             "solidity": 0.2
            },
            "type": "scatter"
           }
          ],
          "scatter3d": [
           {
            "line": {
             "colorbar": {
              "outlinewidth": 0,
              "ticks": ""
             }
            },
            "marker": {
             "colorbar": {
              "outlinewidth": 0,
              "ticks": ""
             }
            },
            "type": "scatter3d"
           }
          ],
          "scattercarpet": [
           {
            "marker": {
             "colorbar": {
              "outlinewidth": 0,
              "ticks": ""
             }
            },
            "type": "scattercarpet"
           }
          ],
          "scattergeo": [
           {
            "marker": {
             "colorbar": {
              "outlinewidth": 0,
              "ticks": ""
             }
            },
            "type": "scattergeo"
           }
          ],
          "scattergl": [
           {
            "marker": {
             "colorbar": {
              "outlinewidth": 0,
              "ticks": ""
             }
            },
            "type": "scattergl"
           }
          ],
          "scattermapbox": [
           {
            "marker": {
             "colorbar": {
              "outlinewidth": 0,
              "ticks": ""
             }
            },
            "type": "scattermapbox"
           }
          ],
          "scatterpolar": [
           {
            "marker": {
             "colorbar": {
              "outlinewidth": 0,
              "ticks": ""
             }
            },
            "type": "scatterpolar"
           }
          ],
          "scatterpolargl": [
           {
            "marker": {
             "colorbar": {
              "outlinewidth": 0,
              "ticks": ""
             }
            },
            "type": "scatterpolargl"
           }
          ],
          "scatterternary": [
           {
            "marker": {
             "colorbar": {
              "outlinewidth": 0,
              "ticks": ""
             }
            },
            "type": "scatterternary"
           }
          ],
          "surface": [
           {
            "colorbar": {
             "outlinewidth": 0,
             "ticks": ""
            },
            "colorscale": [
             [
              0,
              "#0d0887"
             ],
             [
              0.1111111111111111,
              "#46039f"
             ],
             [
              0.2222222222222222,
              "#7201a8"
             ],
             [
              0.3333333333333333,
              "#9c179e"
             ],
             [
              0.4444444444444444,
              "#bd3786"
             ],
             [
              0.5555555555555556,
              "#d8576b"
             ],
             [
              0.6666666666666666,
              "#ed7953"
             ],
             [
              0.7777777777777778,
              "#fb9f3a"
             ],
             [
              0.8888888888888888,
              "#fdca26"
             ],
             [
              1,
              "#f0f921"
             ]
            ],
            "type": "surface"
           }
          ],
          "table": [
           {
            "cells": {
             "fill": {
              "color": "#EBF0F8"
             },
             "line": {
              "color": "white"
             }
            },
            "header": {
             "fill": {
              "color": "#C8D4E3"
             },
             "line": {
              "color": "white"
             }
            },
            "type": "table"
           }
          ]
         },
         "layout": {
          "annotationdefaults": {
           "arrowcolor": "#2a3f5f",
           "arrowhead": 0,
           "arrowwidth": 1
          },
          "autotypenumbers": "strict",
          "coloraxis": {
           "colorbar": {
            "outlinewidth": 0,
            "ticks": ""
           }
          },
          "colorscale": {
           "diverging": [
            [
             0,
             "#8e0152"
            ],
            [
             0.1,
             "#c51b7d"
            ],
            [
             0.2,
             "#de77ae"
            ],
            [
             0.3,
             "#f1b6da"
            ],
            [
             0.4,
             "#fde0ef"
            ],
            [
             0.5,
             "#f7f7f7"
            ],
            [
             0.6,
             "#e6f5d0"
            ],
            [
             0.7,
             "#b8e186"
            ],
            [
             0.8,
             "#7fbc41"
            ],
            [
             0.9,
             "#4d9221"
            ],
            [
             1,
             "#276419"
            ]
           ],
           "sequential": [
            [
             0,
             "#0d0887"
            ],
            [
             0.1111111111111111,
             "#46039f"
            ],
            [
             0.2222222222222222,
             "#7201a8"
            ],
            [
             0.3333333333333333,
             "#9c179e"
            ],
            [
             0.4444444444444444,
             "#bd3786"
            ],
            [
             0.5555555555555556,
             "#d8576b"
            ],
            [
             0.6666666666666666,
             "#ed7953"
            ],
            [
             0.7777777777777778,
             "#fb9f3a"
            ],
            [
             0.8888888888888888,
             "#fdca26"
            ],
            [
             1,
             "#f0f921"
            ]
           ],
           "sequentialminus": [
            [
             0,
             "#0d0887"
            ],
            [
             0.1111111111111111,
             "#46039f"
            ],
            [
             0.2222222222222222,
             "#7201a8"
            ],
            [
             0.3333333333333333,
             "#9c179e"
            ],
            [
             0.4444444444444444,
             "#bd3786"
            ],
            [
             0.5555555555555556,
             "#d8576b"
            ],
            [
             0.6666666666666666,
             "#ed7953"
            ],
            [
             0.7777777777777778,
             "#fb9f3a"
            ],
            [
             0.8888888888888888,
             "#fdca26"
            ],
            [
             1,
             "#f0f921"
            ]
           ]
          },
          "colorway": [
           "#636efa",
           "#EF553B",
           "#00cc96",
           "#ab63fa",
           "#FFA15A",
           "#19d3f3",
           "#FF6692",
           "#B6E880",
           "#FF97FF",
           "#FECB52"
          ],
          "font": {
           "color": "#2a3f5f"
          },
          "geo": {
           "bgcolor": "white",
           "lakecolor": "white",
           "landcolor": "#E5ECF6",
           "showlakes": true,
           "showland": true,
           "subunitcolor": "white"
          },
          "hoverlabel": {
           "align": "left"
          },
          "hovermode": "closest",
          "mapbox": {
           "style": "light"
          },
          "paper_bgcolor": "white",
          "plot_bgcolor": "#E5ECF6",
          "polar": {
           "angularaxis": {
            "gridcolor": "white",
            "linecolor": "white",
            "ticks": ""
           },
           "bgcolor": "#E5ECF6",
           "radialaxis": {
            "gridcolor": "white",
            "linecolor": "white",
            "ticks": ""
           }
          },
          "scene": {
           "xaxis": {
            "backgroundcolor": "#E5ECF6",
            "gridcolor": "white",
            "gridwidth": 2,
            "linecolor": "white",
            "showbackground": true,
            "ticks": "",
            "zerolinecolor": "white"
           },
           "yaxis": {
            "backgroundcolor": "#E5ECF6",
            "gridcolor": "white",
            "gridwidth": 2,
            "linecolor": "white",
            "showbackground": true,
            "ticks": "",
            "zerolinecolor": "white"
           },
           "zaxis": {
            "backgroundcolor": "#E5ECF6",
            "gridcolor": "white",
            "gridwidth": 2,
            "linecolor": "white",
            "showbackground": true,
            "ticks": "",
            "zerolinecolor": "white"
           }
          },
          "shapedefaults": {
           "line": {
            "color": "#2a3f5f"
           }
          },
          "ternary": {
           "aaxis": {
            "gridcolor": "white",
            "linecolor": "white",
            "ticks": ""
           },
           "baxis": {
            "gridcolor": "white",
            "linecolor": "white",
            "ticks": ""
           },
           "bgcolor": "#E5ECF6",
           "caxis": {
            "gridcolor": "white",
            "linecolor": "white",
            "ticks": ""
           }
          },
          "title": {
           "x": 0.05
          },
          "xaxis": {
           "automargin": true,
           "gridcolor": "white",
           "linecolor": "white",
           "ticks": "",
           "title": {
            "standoff": 15
           },
           "zerolinecolor": "white",
           "zerolinewidth": 2
          },
          "yaxis": {
           "automargin": true,
           "gridcolor": "white",
           "linecolor": "white",
           "ticks": "",
           "title": {
            "standoff": 15
           },
           "zerolinecolor": "white",
           "zerolinewidth": 2
          }
         }
        }
       }
      }
     },
     "metadata": {},
     "output_type": "display_data"
    },
    {
     "data": {
      "text/plain": [
       "<Figure size 1500x1600 with 0 Axes>"
      ]
     },
     "metadata": {},
     "output_type": "display_data"
    }
   ],
   "source": [
    "# Get unique ingredients with count\n",
    "plt.figure(figsize=(15,16))\n",
    "def get_unique_ingredients(state):\n",
    "    df_unique = df_101[df_101['state'] == state]\n",
    "    df_unique['ingredients'] = df_unique['ingredients'].str.split(',')\n",
    "    print(df_unique['ingredients'].explode().unique())\n",
    "    fig = go.Figure(data=[go.Pie(labels=df_unique['ingredients'].explode().unique(), values=df_unique['ingredients'].explode().value_counts())])\n",
    "    fig.update_layout(margin=dict(t=0, b=0, l=0, r=0))\n",
    "    fig.show()\n",
    "    \n",
    "get_unique_ingredients('Goa')"
   ]
  },
  {
   "cell_type": "code",
   "execution_count": null,
   "metadata": {},
   "outputs": [
    {
     "data": {
      "text/plain": [
       "Continental             952\n",
       "Indian                  927\n",
       "North Indian Recipes    763\n",
       "South Indian Recipes    558\n",
       "Italian Recipes         231\n",
       "                       ... \n",
       "Burmese                   1\n",
       "Shandong                  1\n",
       "Brunch                    1\n",
       "Lunch                     1\n",
       "Dessert                   1\n",
       "Name: Cuisine, Length: 82, dtype: int64"
      ]
     },
     "execution_count": 19,
     "metadata": {},
     "output_type": "execute_result"
    }
   ],
   "source": [
    "df['Cuisine'].value_counts()"
   ]
  },
  {
   "cell_type": "code",
   "execution_count": null,
   "metadata": {},
   "outputs": [],
   "source": []
  }
 ],
 "metadata": {
  "kernelspec": {
   "display_name": "Python 3",
   "language": "python",
   "name": "python3"
  },
  "language_info": {
   "codemirror_mode": {
    "name": "ipython",
    "version": 3
   },
   "file_extension": ".py",
   "mimetype": "text/x-python",
   "name": "python",
   "nbconvert_exporter": "python",
   "pygments_lexer": "ipython3",
   "version": "3.10.13"
  },
  "orig_nbformat": 4
 },
 "nbformat": 4,
 "nbformat_minor": 2
}
