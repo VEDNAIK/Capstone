{
 "cells": [
  {
   "cell_type": "code",
   "execution_count": 1,
   "metadata": {},
   "outputs": [
    {
     "name": "stderr",
     "output_type": "stream",
     "text": [
      "/opt/homebrew/lib/python3.10/site-packages/fuzzywuzzy/fuzz.py:11: UserWarning: Using slow pure-python SequenceMatcher. Install python-Levenshtein to remove this warning\n",
      "  warnings.warn('Using slow pure-python SequenceMatcher. Install python-Levenshtein to remove this warning')\n",
      "/opt/homebrew/lib/python3.10/site-packages/tqdm/auto.py:21: TqdmWarning: IProgress not found. Please update jupyter and ipywidgets. See https://ipywidgets.readthedocs.io/en/stable/user_install.html\n",
      "  from .autonotebook import tqdm as notebook_tqdm\n"
     ]
    }
   ],
   "source": [
    "import numpy as np # linear algebra\n",
    "import pandas as pd # data processing, CSV file I/O (e.g. pd.read_csv)\n",
    "\n",
    "import seaborn as sns\n",
    "import matplotlib\n",
    "import matplotlib.pyplot as plt\n",
    "# fuzz is used to compare TWO strings\n",
    "from fuzzywuzzy import fuzz\n",
    "# process is used to compare a string to MULTIPLE other strings\n",
    "from fuzzywuzzy import process\n",
    "from sentence_transformers import SentenceTransformer\n",
    "from sklearn.metrics.pairwise import cosine_similarity\n",
    "from numpy import loadtxt\n",
    "from numpy import savetxt"
   ]
  },
  {
   "cell_type": "code",
   "execution_count": 2,
   "metadata": {},
   "outputs": [],
   "source": [
    "df=pd.read_csv('Dataset/string_ingredients.csv')\n",
    "#df.sample(10)  randomly ouputs 10 sample"
   ]
  },
  {
   "cell_type": "code",
   "execution_count": 3,
   "metadata": {},
   "outputs": [],
   "source": [
    "bert = SentenceTransformer('bert-base-nli-mean-tokens')"
   ]
  },
  {
   "cell_type": "code",
   "execution_count": 4,
   "metadata": {},
   "outputs": [],
   "source": [
    "## Helper function to retrieve receipes\n",
    "\n",
    "def get_index(recp):\n",
    "    return df[df.TranslatedRecipeName == recp].index.values[0]\n",
    "\n",
    "def get_receipe(index):\n",
    "    return df[df.index == index][\"TranslatedRecipeName\"].values[0]"
   ]
  },
  {
   "cell_type": "code",
   "execution_count": 5,
   "metadata": {},
   "outputs": [],
   "source": [
    "sentence_embeddings = bert.encode(df['parsed']).tolist()"
   ]
  },
  {
   "cell_type": "code",
   "execution_count": 6,
   "metadata": {},
   "outputs": [],
   "source": [
    "similarity = cosine_similarity(sentence_embeddings)"
   ]
  },
  {
   "cell_type": "code",
   "execution_count": 7,
   "metadata": {},
   "outputs": [],
   "source": [
    "savetxt('similarity_scores.csv', similarity, delimiter=',')"
   ]
  },
  {
   "cell_type": "code",
   "execution_count": 8,
   "metadata": {},
   "outputs": [
    {
     "name": "stdout",
     "output_type": "stream",
     "text": [
      "[[1.         0.90637215 0.87435139 ... 0.76991729 0.95902865 0.83062583]\n",
      " [0.90637215 1.         0.92769798 ... 0.73218657 0.93576689 0.88795622]\n",
      " [0.87435139 0.92769798 1.         ... 0.68437122 0.90542273 0.85009461]\n",
      " ...\n",
      " [0.76991729 0.73218657 0.68437122 ... 1.         0.72389932 0.68523532]\n",
      " [0.95902865 0.93576689 0.90542273 ... 0.72389932 1.         0.86546365]\n",
      " [0.83062583 0.88795622 0.85009461 ... 0.68523532 0.86546365 1.        ]]\n"
     ]
    }
   ],
   "source": [
    "sim_score = loadtxt('similarity_scores.csv', delimiter=',')\n",
    "# print the array\n",
    "print(sim_score)"
   ]
  },
  {
   "cell_type": "code",
   "execution_count": 9,
   "metadata": {},
   "outputs": [],
   "source": [
    "def getRecipeRecommentation(recipe_name):\n",
    "    return sorted(list(enumerate(sim_score[get_index(recipe_name)])), key = lambda x: x[1], reverse=True)"
   ]
  },
  {
   "cell_type": "code",
   "execution_count": 14,
   "metadata": {},
   "outputs": [
    {
     "name": "stdout",
     "output_type": "stream",
     "text": [
      "Basundi / Rabri Recipe\n",
      "Sindhi Kheerni Recipe - Sindhi Seviyan Kheer\n",
      "Kesar Pista Kulfi Recipe\n",
      "No Bake Rice Mawa Cake Recipe\n",
      "Sheer Khurma Recipe - Seviyan or Vermicelli Kheer Pudding\n",
      "Almond Elachi Kulfi Recipe\n",
      "Nariyal Ki Kheer Recipe - Coconut Pudding\n",
      "Kesar Elaichi Shrikand Recipe\n",
      "Saffron Pistachio Firni Recipe\n",
      "Chicken Pies Recipe\n"
     ]
    }
   ],
   "source": [
    "possibilities = process.extract(\"Basundi\", df['TranslatedRecipeName'], limit=1, scorer=fuzz.UQRatio)\n",
    "recommendations = getRecipeRecommentation(possibilities[0][0])\n",
    "for x in range(10):\n",
    "    print(get_receipe(recommendations[x][0]), sep = \"\\n\")"
   ]
  }
 ],
 "metadata": {
  "kernelspec": {
   "display_name": "Python 3",
   "language": "python",
   "name": "python3"
  },
  "language_info": {
   "codemirror_mode": {
    "name": "ipython",
    "version": 3
   },
   "file_extension": ".py",
   "mimetype": "text/x-python",
   "name": "python",
   "nbconvert_exporter": "python",
   "pygments_lexer": "ipython3",
   "version": "3.10.13"
  }
 },
 "nbformat": 4,
 "nbformat_minor": 2
}
