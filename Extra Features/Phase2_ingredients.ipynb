{
 "cells": [
  {
   "cell_type": "code",
   "execution_count": 1,
   "metadata": {},
   "outputs": [
    {
     "name": "stderr",
     "output_type": "stream",
     "text": [
      "/opt/homebrew/lib/python3.10/site-packages/fuzzywuzzy/fuzz.py:11: UserWarning: Using slow pure-python SequenceMatcher. Install python-Levenshtein to remove this warning\n",
      "  warnings.warn('Using slow pure-python SequenceMatcher. Install python-Levenshtein to remove this warning')\n",
      "/opt/homebrew/lib/python3.10/site-packages/tqdm/auto.py:21: TqdmWarning: IProgress not found. Please update jupyter and ipywidgets. See https://ipywidgets.readthedocs.io/en/stable/user_install.html\n",
      "  from .autonotebook import tqdm as notebook_tqdm\n"
     ]
    }
   ],
   "source": [
    "import numpy as np # linear algebra\n",
    "import pandas as pd # data processing, CSV file I/O (e.g. pd.read_csv)\n",
    "\n",
    "import seaborn as sns\n",
    "import matplotlib\n",
    "import matplotlib.pyplot as plt\n",
    "# fuzz is used to compare TWO strings\n",
    "from fuzzywuzzy import fuzz\n",
    "# process is used to compare a string to MULTIPLE other strings\n",
    "from fuzzywuzzy import process\n",
    "from sentence_transformers import SentenceTransformer\n",
    "from sklearn.metrics.pairwise import cosine_similarity\n",
    "from numpy import loadtxt\n",
    "from numpy import savetxt"
   ]
  },
  {
   "cell_type": "code",
   "execution_count": 2,
   "metadata": {},
   "outputs": [],
   "source": [
    "df=pd.read_csv('Dataset/string_ingredients.csv')\n",
    "#df.sample(10)  randomly ouputs 10 sample"
   ]
  },
  {
   "cell_type": "code",
   "execution_count": 3,
   "metadata": {},
   "outputs": [],
   "source": [
    "bert = SentenceTransformer('bert-base-nli-mean-tokens')"
   ]
  },
  {
   "cell_type": "code",
   "execution_count": 4,
   "metadata": {},
   "outputs": [],
   "source": [
    "## Helper function to retrieve receipes\n",
    "\n",
    "def get_index(recp):\n",
    "    return df[df.TranslatedRecipeName == recp].index.values[0]\n",
    "\n",
    "def get_receipe(index):\n",
    "    return df[df.index == index][\"TranslatedRecipeName\"]  # .values[0]\n",
    "\n",
    "def get_ingredients(index):\n",
    "    return df[df.index == index][\"parsed\"]"
   ]
  },
  {
   "cell_type": "code",
   "execution_count": 5,
   "metadata": {},
   "outputs": [],
   "source": [
    "sentence_embeddings = bert.encode(df['parsed']).tolist()"
   ]
  },
  {
   "cell_type": "code",
   "execution_count": 6,
   "metadata": {},
   "outputs": [],
   "source": [
    "sentence_embeddings = np.array(sentence_embeddings)"
   ]
  },
  {
   "cell_type": "code",
   "execution_count": 7,
   "metadata": {},
   "outputs": [
    {
     "data": {
      "text/plain": [
       "numpy.ndarray"
      ]
     },
     "execution_count": 7,
     "metadata": {},
     "output_type": "execute_result"
    }
   ],
   "source": [
    "type(sentence_embeddings)"
   ]
  },
  {
   "cell_type": "code",
   "execution_count": 8,
   "metadata": {},
   "outputs": [],
   "source": [
    "import numpy as np\n",
    "\n",
    "# Create a NumPy array\n",
    "\n",
    "# Save the array to a file\n",
    "np.save('sentence_embeddings.npy', sentence_embeddings)\n",
    "\n",
    "# Load the array from the file\n",
    "loaded_array = np.load('sentence_embeddings.npy')\n"
   ]
  },
  {
   "cell_type": "code",
   "execution_count": 9,
   "metadata": {},
   "outputs": [],
   "source": [
    "def custom(input):\n",
    "    input = np.array(bert.encode(input).tolist())\n",
    "    scores=[]\n",
    "    for i in range(len(sentence_embeddings)):\n",
    "        scores.append(cosine_similarity(sentence_embeddings[i].reshape(1, -1), input.reshape(1, -1)))\n",
    "        recommendations = sorted(list(enumerate(scores)), key = lambda x: x[1], reverse=True)\n",
    "    for x in range(1,10):\n",
    "        print(get_receipe(recommendations[x][0]), get_ingredients(recommendations[x][0]))"
   ]
  },
  {
   "cell_type": "code",
   "execution_count": 10,
   "metadata": {},
   "outputs": [
    {
     "name": "stdout",
     "output_type": "stream",
     "text": [
      "5493    Bihari Style Baingan Ka Chokha Recipe (Smoked ...\n",
      "Name: TranslatedRecipeName, dtype: object 5493    tomato, salt, ginger, green chilli, mustard oi...\n",
      "Name: parsed, dtype: object\n",
      "5018    Turai Baingan Ki Sabzi Recipe - Eggplant Ridge...\n",
      "Name: TranslatedRecipeName, dtype: object 5018    tomato, salt, amchur, brinjal, dhansak masala,...\n",
      "Name: parsed, dtype: object\n",
      "4    Andhra Style Alam Pachadi Recipe - Adrak Chutn...\n",
      "Name: TranslatedRecipeName, dtype: object 4    tomato, salt, ginger, chilli, curry, asafoetid...\n",
      "Name: parsed, dtype: object\n",
      "4643    Kasuri Methi Paneer Sabzi Recipe\n",
      "Name: TranslatedRecipeName, dtype: object 4643    tomato, salt, ginger, paneer, chilli powder, g...\n",
      "Name: parsed, dtype: object\n",
      "5812    Paneer Bhurji Varpas Recipe\n",
      "Name: TranslatedRecipeName, dtype: object 5812    tomato, salt, sunflower oil, green chilli, cor...\n",
      "Name: parsed, dtype: object\n",
      "998    Raw Tomato Chutney Recipe - Raw Tomato Chutney...\n",
      "Name: TranslatedRecipeName, dtype: object 998    tomato, salt, jaggery, clove garlic, fenugreek...\n",
      "Name: parsed, dtype: object\n",
      "1391    Spinach Egg Muffins Recipe\n",
      "Name: TranslatedRecipeName, dtype: object 1391    tomato, salt, onion, garlic, black pepper powd...\n",
      "Name: parsed, dtype: object\n",
      "3763     Cabbage Palya (Recipe In Hindi)\n",
      "Name: TranslatedRecipeName, dtype: object 3763    tomato, coriander leaf, salt, mustard oil, coc...\n",
      "Name: parsed, dtype: object\n",
      "5580    Oriya Badi Chura Recipe | Sundried Lentil Dump...\n",
      "Name: TranslatedRecipeName, dtype: object 5580    salt, green chilli, mustard oil, clove garlic,...\n",
      "Name: parsed, dtype: object\n"
     ]
    }
   ],
   "source": [
    "custom(\"oil, onion, tomato, ginger, garlic, paneer\") "
   ]
  },
  {
   "cell_type": "code",
   "execution_count": null,
   "metadata": {},
   "outputs": [],
   "source": []
  }
 ],
 "metadata": {
  "kernelspec": {
   "display_name": "Python 3",
   "language": "python",
   "name": "python3"
  },
  "language_info": {
   "codemirror_mode": {
    "name": "ipython",
    "version": 3
   },
   "file_extension": ".py",
   "mimetype": "text/x-python",
   "name": "python",
   "nbconvert_exporter": "python",
   "pygments_lexer": "ipython3",
   "version": "3.10.13"
  }
 },
 "nbformat": 4,
 "nbformat_minor": 2
}
